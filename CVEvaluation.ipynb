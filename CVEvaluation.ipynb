{
 "cells": [
  {
   "cell_type": "markdown",
   "metadata": {},
   "source": [
    "### Grey Converter"
   ]
  },
  {
   "cell_type": "code",
   "execution_count": 57,
   "metadata": {},
   "outputs": [],
   "source": [
    "import cv2\n",
    "\n",
    "def rgb_to_grey(img):\n",
    "    grey = cv2.cvtColor(img, cv2.COLOR_BGR2GRAY)\n",
    "\n",
    "    return grey"
   ]
  },
  {
   "cell_type": "markdown",
   "metadata": {},
   "source": [
    "2. Given any two images, write a function to compute the quality metrics PSNR and MSE, where I1 refers to the original image. I2 refers to the reconstructed (enhanced) image and M, N denotes the size of the image; L refers to the intensity levels defined in the give image (for a grey scale image L = 256). "
   ]
  },
  {
   "cell_type": "code",
   "execution_count": 58,
   "metadata": {},
   "outputs": [],
   "source": [
    "import math\n",
    "import numpy as np\n",
    "\n",
    "def find_mse(dt1, dt2):\n",
    "    mse = np.sum((dt1-dt2)**2)/dt1.shape[0]*dt1.shape[1]\n",
    "    return mse\n",
    "\n",
    "def find_psnr(dt1, dt2):\n",
    "    L = 256\n",
    "    mse = find_mse(dt1,dt2)\n",
    "    psnr = 20*math.log((L-1)/mse)\n",
    "    return psnr"
   ]
  },
  {
   "cell_type": "code",
   "execution_count": 59,
   "metadata": {},
   "outputs": [
    {
     "name": "stdout",
     "output_type": "stream",
     "text": [
      "MSE 2753685.0\n",
      "PSNR -185.74374054971116\n"
     ]
    }
   ],
   "source": [
    "image = cv2.imread(\"AthulMathew40.jpg\")\n",
    "dt1 = rgb_to_grey(image)\n",
    "\n",
    "image = cv2.imread(\"AthulMathew10.jpg\")\n",
    "dt2 = rgb_to_grey(image)\n",
    "\n",
    "print(\"MSE\", find_mse(dt1, dt2))\n",
    "print(\"PSNR\", find_psnr(dt1, dt2))"
   ]
  },
  {
   "cell_type": "markdown",
   "metadata": {},
   "source": [
    "3. Create a synthetic image with the following features and store it as “YourName.jpg”:          (256 x 256)"
   ]
  },
  {
   "cell_type": "markdown",
   "metadata": {},
   "source": [
    "3a. 10% of pixels with values 50"
   ]
  },
  {
   "cell_type": "code",
   "execution_count": 60,
   "metadata": {},
   "outputs": [],
   "source": [
    "import numpy as np\n",
    "from PIL import Image\n",
    "arr = np.random.choice([0, 50], size=256*256, p=[.9, .1])\n",
    "array = np.reshape(arr, (256, 256))\n",
    "\n",
    "# l - Greyscale Mode\n",
    "data = Image.fromarray(array,'L')\n",
    "data.save('AthulMathew10.jpg')\n",
    "# data.show()"
   ]
  },
  {
   "cell_type": "markdown",
   "metadata": {},
   "source": [
    "3b. 20% with 100"
   ]
  },
  {
   "cell_type": "code",
   "execution_count": 61,
   "metadata": {},
   "outputs": [],
   "source": [
    "import numpy as np\n",
    "from PIL import Image\n",
    "\n",
    "arr = np.random.choice([0, 100], size=256*256, p=[.8, .2])\n",
    "array = np.reshape(arr, (256, 256))\n",
    "\n",
    "# l - Greyscale Mode\n",
    "data = Image.fromarray(array,'L')\n",
    "data.save('AthulMathew20.jpg')\n",
    "# data.show()"
   ]
  },
  {
   "cell_type": "markdown",
   "metadata": {},
   "source": [
    "3c. 30% with 150"
   ]
  },
  {
   "cell_type": "code",
   "execution_count": 62,
   "metadata": {},
   "outputs": [],
   "source": [
    "import numpy as np\n",
    "from PIL import Image\n",
    "\n",
    "arr = np.random.choice([0, 150], size=256*256, p=[.7, .3])\n",
    "array = np.reshape(arr, (256, 256))\n",
    "\n",
    "# l - Greyscale Mode\n",
    "data = Image.fromarray(array,'L')\n",
    "data.save('AthulMathew30.jpg')\n",
    "# data.show()"
   ]
  },
  {
   "cell_type": "markdown",
   "metadata": {},
   "source": [
    "3d. 40% with 225"
   ]
  },
  {
   "cell_type": "code",
   "execution_count": 63,
   "metadata": {},
   "outputs": [],
   "source": [
    "import numpy as np\n",
    "from PIL import Image\n",
    "\n",
    "arr = np.random.choice([0, 225], size=256*256, p=[.6, .4])\n",
    "array = np.reshape(arr, (256, 256))\n",
    "\n",
    "# l - Greyscale Mode\n",
    "data = Image.fromarray(array,'L')\n",
    "data.save('AthulMathew40.jpg')\n",
    "# data.show()"
   ]
  },
  {
   "cell_type": "markdown",
   "metadata": {},
   "source": [
    "3(i) Perform Log transform, gamma transform and histogram equalization "
   ]
  },
  {
   "cell_type": "markdown",
   "metadata": {},
   "source": [
    "### Log Transform"
   ]
  },
  {
   "cell_type": "code",
   "execution_count": 64,
   "metadata": {},
   "outputs": [],
   "source": [
    "import numpy as np\n",
    "\n",
    "def log_trans(dt):\n",
    "    c = 255 / np.log(1 + np.max(dt)) \n",
    "    log_img = c * (np.log(dt + 1))\n",
    "    log_img = np.array(log_img, dtype = np.uint8) \n",
    "    return log_img"
   ]
  },
  {
   "cell_type": "markdown",
   "metadata": {},
   "source": [
    "Test:"
   ]
  },
  {
   "cell_type": "code",
   "execution_count": 65,
   "metadata": {},
   "outputs": [
    {
     "name": "stderr",
     "output_type": "stream",
     "text": [
      "<ipython-input-64-559cca4ad191>:5: RuntimeWarning: divide by zero encountered in log\n",
      "  log_img = c * (np.log(dt + 1))\n"
     ]
    }
   ],
   "source": [
    "image = cv2.imread(\"C:\\\\Users\\\\athul\\\\3.ComputerVision\\\\Images\\\\14_std.jpg\")\n",
    "dt = rgb_to_grey(image)\n",
    "\n",
    "log_img = log_trans(dt)\n",
    "dt = Image.fromarray(log_img,'L')\n",
    "# dt.show()"
   ]
  },
  {
   "cell_type": "markdown",
   "metadata": {},
   "source": [
    "### Histogram Equalization"
   ]
  },
  {
   "cell_type": "code",
   "execution_count": 66,
   "metadata": {},
   "outputs": [],
   "source": [
    "import cv2\n",
    "import numpy as np\n",
    "import collections\n",
    "\n",
    "# def hist_eq(image1):\n",
    "#     gray_img = cv2.cvtColor(image1, cv2.COLOR_RGB2GRAY)\n",
    "\n",
    "#     equ = cv2.equalizeHist(gray_img) \n",
    "#     return equ\n",
    "\n",
    "def hist_eq(dt):\n",
    "    lst = []\n",
    "    for i in range(dt.shape[0]):\n",
    "        for j in range(dt.shape[1]):\n",
    "        \n",
    "            lst.append(dt[i][j])\n",
    "\n",
    "    count = []\n",
    "    cum_sum = []\n",
    "    summ = 0\n",
    "    for i in range(256):\n",
    "        pixel_count = lst.count(i)\n",
    "        count.append(pixel_count)\n",
    "        summ =summ + pixel_count\n",
    "        cum_sum.append(summ)\n",
    "    \n",
    "    h_v = []\n",
    "    for i in range(dt.shape[0]):\n",
    "        for j in range(dt.shape[1]):\n",
    "            hv = int(round(((cum_sum[dt[i][j]]-1)*255)/(dt.shape[0]*dt.shape[1]),0))\n",
    "            h_v.append(hv)\n",
    "    \n",
    "    \n",
    "    array = np.reshape(h_v, (dt.shape[0], dt.shape[1]))\n",
    "    array = np.array(array, dtype = np.uint8) \n",
    "    return array"
   ]
  },
  {
   "cell_type": "markdown",
   "metadata": {},
   "source": [
    "Test:"
   ]
  },
  {
   "cell_type": "code",
   "execution_count": 67,
   "metadata": {},
   "outputs": [],
   "source": [
    "import cv2\n",
    "from matplotlib import pyplot as plt\n",
    "\n",
    "# image1 = cv2.imread(\"C:\\\\Users\\\\athul\\\\3.ComputerVision\\\\Images\\\\14_std.jpg\")\n",
    "\n",
    "# equ = hist_eq(image1)\n",
    "\n",
    "# plt.imshow(equ, cmap = 'gray')\n",
    "# plt.show()\n",
    "\n",
    "image = cv2.imread(\"C:\\\\Users\\\\athul\\\\3.ComputerVision\\\\Images\\\\14_std.jpg\")\n",
    "dt = rgb_to_grey(image)\n",
    "\n",
    "hist_img = hist_eq(dt)\n",
    "dt = Image.fromarray(hist_img,'L')\n",
    "# dt.show()"
   ]
  },
  {
   "cell_type": "markdown",
   "metadata": {},
   "source": [
    "### Gamma Transformation"
   ]
  },
  {
   "cell_type": "code",
   "execution_count": 68,
   "metadata": {},
   "outputs": [],
   "source": [
    "def gamma_eq(dt, gamma, c_slider):\n",
    "    gamma_img = pow((c_slider*dt), gamma)\n",
    "    array = np.array(gamma_img, dtype = np.uint8)\n",
    "    return array"
   ]
  },
  {
   "cell_type": "markdown",
   "metadata": {},
   "source": [
    "Test:"
   ]
  },
  {
   "cell_type": "code",
   "execution_count": 69,
   "metadata": {},
   "outputs": [],
   "source": [
    "image = cv2.imread(\"C:\\\\Users\\\\athul\\\\3.ComputerVision\\\\Images\\\\14_std.jpg\")\n",
    "dt_in = rgb_to_grey(image)\n",
    "\n",
    "gamma = 20\n",
    "c=1\n",
    "\n",
    "gamma_img = gamma_eq(dt_in, gamma, c)\n",
    "\n",
    "dt_out = Image.fromarray(gamma_img,'L')\n",
    "# dt_out.show()"
   ]
  },
  {
   "cell_type": "markdown",
   "metadata": {},
   "source": [
    "3(ii). Compute quality metrics and give inference on the resultant image."
   ]
  },
  {
   "cell_type": "code",
   "execution_count": 70,
   "metadata": {},
   "outputs": [
    {
     "name": "stdout",
     "output_type": "stream",
     "text": [
      "MSE 1855764.0\n",
      "PSNR -177.85086967825077\n"
     ]
    }
   ],
   "source": [
    "print(\"MSE\", find_mse(dt_in, dt_out))\n",
    "print(\"PSNR\", find_psnr(dt_in, dt_out))"
   ]
  },
  {
   "cell_type": "markdown",
   "metadata": {},
   "source": [
    "3(iii). Perform average filter, weighted average filter and show which is better (choose any filter size )"
   ]
  },
  {
   "cell_type": "markdown",
   "metadata": {},
   "source": [
    "### Average Filter"
   ]
  },
  {
   "cell_type": "code",
   "execution_count": 71,
   "metadata": {},
   "outputs": [],
   "source": [
    "import numpy as np\n",
    "from PIL import Image\n",
    "\n",
    "def find_avg(dt_in):\n",
    "    \n",
    "    filter_h, filter_w = 3, 3\n",
    "\n",
    "    filter_coeff = [[1, 1, 1], \n",
    "                    [1, 1, 1], \n",
    "                    [1, 1, 1]]\n",
    "\n",
    "    pad_h, pad_w = int((filter_h-1)/2), int((filter_w-1)/2)\n",
    "\n",
    "    data_h = int(dt_in.shape[0]+ (2 * pad_h))\n",
    "    data_w = int(dt_in.shape[1] + (2 * pad_w))\n",
    "\n",
    "    data = np.zeros([data_h , data_w])\n",
    "\n",
    "    data[pad_h:int(data_h - pad_h), pad_w:int(data_w - pad_w)] = dt_in\n",
    "\n",
    "    out_lst = []\n",
    "    for i in range(dt_in.shape[0]):\n",
    "        for j in range(dt_in.shape[1]):\n",
    "            out_lst.append(np.sum((data[i:i + filter_h, j:j + filter_w])*filter_coeff)/(9))\n",
    "\n",
    "    array = np.reshape(out_lst, (dt_in.shape[0], dt_in.shape[1]))\n",
    "    array = np.array(array, dtype = np.uint8)\n",
    "    \n",
    "    return array\n"
   ]
  },
  {
   "cell_type": "markdown",
   "metadata": {},
   "source": [
    "Test:"
   ]
  },
  {
   "cell_type": "code",
   "execution_count": 72,
   "metadata": {},
   "outputs": [],
   "source": [
    "image = cv2.imread(\"C:\\\\Users\\\\athul\\\\3.ComputerVision\\\\Images\\\\14_std.jpg\")\n",
    "dt_in = rgb_to_grey(image)\n",
    "\n",
    "array = find_avg(dt_in)\n",
    "dt_out1 = Image.fromarray(array,'L')\n",
    "# dt_out.show()"
   ]
  },
  {
   "cell_type": "code",
   "execution_count": 73,
   "metadata": {},
   "outputs": [
    {
     "name": "stdout",
     "output_type": "stream",
     "text": [
      "MSE Average Filter  514752.0\n",
      "PSNR Average Filter  -152.2035393021063\n"
     ]
    }
   ],
   "source": [
    "print(\"MSE Average Filter \", find_mse(dt_in, dt_out1))\n",
    "print(\"PSNR Average Filter \", find_psnr(dt_in, dt_out1))"
   ]
  },
  {
   "cell_type": "markdown",
   "metadata": {},
   "source": [
    "### Weighted Average Filter"
   ]
  },
  {
   "cell_type": "code",
   "execution_count": 74,
   "metadata": {},
   "outputs": [],
   "source": [
    "import numpy as np\n",
    "from PIL import Image\n",
    "\n",
    "def find_wg_avg(dt_in):\n",
    "    \n",
    "    filter_h, filter_w = 3, 3\n",
    "\n",
    "    filter_coeff = [[1, 2, 1], \n",
    "                    [2, 4, 2], \n",
    "                    [1, 2, 1]]\n",
    "\n",
    "    pad_h, pad_w = int((filter_h-1)/2), int((filter_w-1)/2)\n",
    "\n",
    "    data_h = int(dt_in.shape[0]+ (2 * pad_h))\n",
    "    data_w = int(dt_in.shape[1] + (2 * pad_w))\n",
    "\n",
    "    data = np.zeros([data_h , data_w])\n",
    "\n",
    "    data[pad_h:int(data_h - pad_h), pad_w:int(data_w - pad_w)] = dt_in\n",
    "\n",
    "    out_lst = []\n",
    "    for i in range(dt_in.shape[0]):\n",
    "        for j in range(dt_in.shape[1]):\n",
    "            out_lst.append(np.sum((data[i:i + filter_h, j:j + filter_w])*filter_coeff)/(16))\n",
    "\n",
    "    array = np.reshape(out_lst, (dt_in.shape[0], dt_in.shape[1]))\n",
    "    array = np.array(array, dtype = np.uint8)\n",
    "    \n",
    "    return array"
   ]
  },
  {
   "cell_type": "markdown",
   "metadata": {},
   "source": [
    "Test:"
   ]
  },
  {
   "cell_type": "code",
   "execution_count": 75,
   "metadata": {},
   "outputs": [],
   "source": [
    "image = cv2.imread(\"C:\\\\Users\\\\athul\\\\3.ComputerVision\\\\Images\\\\14_std.jpg\")\n",
    "dt_in = rgb_to_grey(image)\n",
    "\n",
    "array = find_wg_avg(dt_in)\n",
    "dt_out2 = Image.fromarray(array,'L')\n",
    "# dt_out.show()"
   ]
  },
  {
   "cell_type": "code",
   "execution_count": 76,
   "metadata": {},
   "outputs": [
    {
     "name": "stdout",
     "output_type": "stream",
     "text": [
      "MSE Weighted Average Filter  412827.0\n",
      "PSNR Weighted Average Filter  -147.7904070565773\n"
     ]
    }
   ],
   "source": [
    "print(\"MSE Weighted Average Filter \", find_mse(dt_in, dt_out2))\n",
    "print(\"PSNR Weighted Average Filter \", find_psnr(dt_in, dt_out2))"
   ]
  },
  {
   "cell_type": "markdown",
   "metadata": {},
   "source": [
    "Average Filter has low mse. So it is better than Weighted Average Filter."
   ]
  },
  {
   "cell_type": "markdown",
   "metadata": {},
   "source": [
    "3(iv). Perform image sharpening."
   ]
  },
  {
   "cell_type": "code",
   "execution_count": 77,
   "metadata": {},
   "outputs": [],
   "source": [
    "def find_sharp(image1, sharp_size, filter_coeff):\n",
    "    \n",
    "    x = filter_coeff.split(\",\")\n",
    "    x = [int(i) for i in x]\n",
    "    x = np.array(x)\n",
    "\n",
    "    if len(x) == 9:\n",
    "        filter_coeff = x.reshape(3, 3)\n",
    "    else:\n",
    "        filter_coeff = x.reshape(5, 5)\n",
    "    \n",
    "    filter_h, filter_w = sharp_size, sharp_size\n",
    "    \n",
    "    pad_h, pad_w = int((filter_h-1)/2), int((filter_w-1)/2)\n",
    "\n",
    "    data_h = int(dt.shape[0]+ (2 * pad_h))\n",
    "    data_w = int(dt.shape[1] + (2 * pad_w))\n",
    "\n",
    "    data = np.zeros([data_h , data_w])\n",
    "\n",
    "    data[pad_h:int(data_h - pad_h), pad_w:int(data_w - pad_w)] = dt\n",
    "\n",
    "    out_lst = []\n",
    "    for i in range(dt.shape[0]):\n",
    "        for j in range(dt.shape[1]):\n",
    "            out_lst.append(np.sum((data[i:i + filter_h, j:j + filter_w])*filter_coeff)/(filter_h*filter_w))\n",
    "\n",
    "\n",
    "\n",
    "    array = np.reshape(out_lst, (dt.shape[0], dt.shape[1]))\n",
    "    array = np.array(array, dtype = np.uint8)\n",
    "\n",
    "    return array"
   ]
  },
  {
   "cell_type": "markdown",
   "metadata": {},
   "source": [
    "Test:"
   ]
  },
  {
   "cell_type": "code",
   "execution_count": 78,
   "metadata": {},
   "outputs": [],
   "source": [
    "import numpy as np\n",
    "from PIL import Image\n",
    "\n",
    "image = cv2.imread(\"C:\\\\Users\\\\athul\\\\3.ComputerVision\\\\Images\\\\14_std.jpg\")\n",
    "dt = rgb_to_grey(image)\n",
    "\n",
    "filter_coeff = '0,-1,0,-1,4,-1,0,-1,0'\n",
    "\n",
    "sharp_size = 3\n",
    "\n",
    "array = find_sharp(dt, sharp_size, filter_coeff)\n",
    "sh_dt = Image.fromarray(array,'L')\n",
    "# sh_dt.show()"
   ]
  },
  {
   "cell_type": "markdown",
   "metadata": {},
   "source": [
    "4. Create a synthetic image with the following features and store as “MyRegno.jpg” (256x256)"
   ]
  },
  {
   "cell_type": "markdown",
   "metadata": {},
   "source": [
    "First 20% of the rows (or columns) to have intensity value as 10, Next 20% as 30, Next 20% as 50, Next 20% as 100, Other rows with values as 150 "
   ]
  },
  {
   "cell_type": "code",
   "execution_count": 79,
   "metadata": {},
   "outputs": [
    {
     "name": "stdout",
     "output_type": "stream",
     "text": [
      "[[ 10  10  10 ...  10  10  10]\n",
      " [ 10  10  10 ...  10  10  10]\n",
      " [ 10  10  10 ...  10  10  10]\n",
      " ...\n",
      " [150 150 150 ... 150 150 150]\n",
      " [150 150 150 ... 150 150 150]\n",
      " [150 150 150 ... 150 150 150]]\n"
     ]
    }
   ],
   "source": [
    "import numpy as np\n",
    "from PIL import Image\n",
    "\n",
    "arr = np.zeros(256*256)\n",
    "array = np.reshape(arr, (256, 256))\n",
    "\n",
    "array[0:2*int(256/10)] = 10\n",
    "array[2*int(256/10):4*int(256/10)] = 30\n",
    "array[4*int(256/10):6*int(256/10)] = 50\n",
    "array[6*int(256/10):8*int(256/10)] = 100\n",
    "array[8*int(256/10):] = 150\n",
    "\n",
    "# l - Greyscale Mode\n",
    "array = np.array(array, dtype = np.uint8)\n",
    "data = Image.fromarray(array,'L')\n",
    "data.save('20016.jpg')\n",
    "print(array)\n",
    "\n",
    "# data.show()"
   ]
  },
  {
   "cell_type": "markdown",
   "metadata": {},
   "source": [
    "4(i). Perform transformation using g(x,y) = f(x,y) + c * log(x,y)"
   ]
  },
  {
   "cell_type": "code",
   "execution_count": 80,
   "metadata": {},
   "outputs": [],
   "source": [
    "import math\n",
    "\n",
    "image = cv2.imread(\"C:\\\\Users\\\\athul\\\\3.ComputerVision\\\\Images\\\\14_std.jpg\")\n",
    "dt_in = rgb_to_grey(image)\n",
    "\n",
    "c = .01\n",
    "g_list = []\n",
    "for i in range(dt_in.shape[0]):\n",
    "    for j in range(dt_in.shape[1]):\n",
    "        if dt_in[i][j] != 0 :\n",
    "            g_list.append(dt_in[i][j] + c*(math.log(dt_in[i][j])))\n",
    "        else:\n",
    "            g_list.append(dt_in[i][j])\n",
    "    \n",
    "array = np.reshape(g_list, (dt_in.shape[0], dt_in.shape[1]))\n",
    "array = np.array(array, dtype = np.uint8)\n",
    "dt_out1 = Image.fromarray(array,'L')\n",
    "# dt_out1.show()"
   ]
  },
  {
   "cell_type": "markdown",
   "metadata": {},
   "source": [
    "4(ii). Perform transformation using g(x,y)=f(x,y) – c * log(x,y)"
   ]
  },
  {
   "cell_type": "code",
   "execution_count": 81,
   "metadata": {},
   "outputs": [],
   "source": [
    "import math\n",
    "\n",
    "image = cv2.imread(\"C:\\\\Users\\\\athul\\\\3.ComputerVision\\\\Images\\\\14_std.jpg\")\n",
    "dt_in = rgb_to_grey(image)\n",
    "\n",
    "c = .01\n",
    "g_list = []\n",
    "for i in range(dt_in.shape[0]):\n",
    "    for j in range(dt_in.shape[1]):\n",
    "        if dt_in[i][j] != 0 :\n",
    "            g_list.append(dt_in[i][j] - c*(math.log(dt_in[i][j])))\n",
    "        else:\n",
    "            g_list.append(dt_in[i][j])\n",
    "    \n",
    "array = np.reshape(g_list, (dt_in.shape[0], dt_in.shape[1]))\n",
    "array = np.array(array, dtype = np.uint8)\n",
    "dt_out2 = Image.fromarray(array,'L')\n",
    "# dt_out2.show()"
   ]
  },
  {
   "cell_type": "markdown",
   "metadata": {},
   "source": [
    "4(iii). Compare images generated by the above two transformations and conclude which transformation function is better for a given value of c."
   ]
  },
  {
   "cell_type": "code",
   "execution_count": 82,
   "metadata": {},
   "outputs": [
    {
     "name": "stdout",
     "output_type": "stream",
     "text": [
      "MSE + log 0.0\n",
      "PSNR + log inf\n",
      "MSE - log 21580.0\n",
      "PSNR - log -88.76517387307399\n"
     ]
    },
    {
     "name": "stderr",
     "output_type": "stream",
     "text": [
      "<ipython-input-58-96ab444548b6>:11: RuntimeWarning: divide by zero encountered in double_scalars\n",
      "  psnr = 20*math.log((L-1)/mse)\n"
     ]
    }
   ],
   "source": [
    "print(\"MSE + log\", find_mse(dt_in, dt_out1))\n",
    "print(\"PSNR + log\", find_psnr(dt_in, dt_out1))\n",
    "\n",
    "print(\"MSE - log\", find_mse(dt_in, dt_out2))\n",
    "print(\"PSNR - log\", find_psnr(dt_in, dt_out2))"
   ]
  },
  {
   "cell_type": "markdown",
   "metadata": {},
   "source": [
    "Both Tranformtaions are same for this Image with C=0.01"
   ]
  },
  {
   "cell_type": "markdown",
   "metadata": {},
   "source": [
    "4(iv). Apply smoothing filter and show the resultant image, also compute metrics to show the quality "
   ]
  },
  {
   "cell_type": "code",
   "execution_count": 83,
   "metadata": {},
   "outputs": [],
   "source": [
    "import numpy as np\n",
    "from PIL import Image\n",
    "\n",
    "filter_h, filter_w = 3, 3\n",
    "\n",
    "filter_coeff = [[1, 1, 1], \n",
    "                [1, 1, 1], \n",
    "                [1, 1, 1]]\n",
    "\n",
    "pad_h, pad_w = int((filter_h-1)/2), int((filter_w-1)/2)\n",
    "\n",
    "image = cv2.imread(\"C:\\\\Users\\\\athul\\\\3.ComputerVision\\\\Images\\\\14_std.jpg\")\n",
    "dt_in = rgb_to_grey(image)\n",
    "\n",
    "# maxx = dt.shape[0] if dt.shape[0]>dt.shape[1] else dt.shape[1]\n",
    "# print(dt.shape[0],dt.shape[1])\n",
    "\n",
    "# im_rez = im.resize((maxx, maxx))\n",
    "# dt = np.asarray(im_rez)\n",
    "\n",
    "data_h = int(dt_in.shape[0]+ (2 * pad_h))\n",
    "data_w = int(dt_in.shape[1] + (2 * pad_w))\n",
    "\n",
    "data = np.zeros([data_h , data_w])\n",
    " \n",
    "data[pad_h:int(data_h - pad_h), pad_w:int(data_w - pad_w)] = dt\n",
    "\n",
    "out_lst = []\n",
    "for i in range(dt_in.shape[0]):\n",
    "    for j in range(dt_in.shape[1]):\n",
    "        out_lst.append(np.sum((data[i:i + filter_h, j:j + filter_w])*filter_coeff)/(filter_h*filter_w))\n",
    "\n",
    "\n",
    "\n",
    "array = np.reshape(out_lst, (dt_in.shape[0], dt_in.shape[1]))\n",
    "array = np.array(array, dtype = np.uint8)\n",
    "dt_out = Image.fromarray(array,'L')\n",
    "# dt_out.show()"
   ]
  },
  {
   "cell_type": "code",
   "execution_count": 84,
   "metadata": {},
   "outputs": [
    {
     "name": "stdout",
     "output_type": "stream",
     "text": [
      "MSE - smooth 514752.0\n",
      "PSNR - smooth -152.2035393021063\n"
     ]
    }
   ],
   "source": [
    "print(\"MSE - smooth\", find_mse(dt_in, dt_out))\n",
    "print(\"PSNR - smooth\", find_psnr(dt_in, dt_out))"
   ]
  },
  {
   "cell_type": "markdown",
   "metadata": {},
   "source": [
    "5. Write a program to allow user to choose any grey scale image from your data set and do the following:"
   ]
  },
  {
   "cell_type": "markdown",
   "metadata": {},
   "source": [
    "5a. Perform Gamma transform by accepting “gamma” value from user, the transformation is given by g(x,y) = cα f(x,y) -  accept parameter values from user."
   ]
  },
  {
   "cell_type": "code",
   "execution_count": 85,
   "metadata": {},
   "outputs": [],
   "source": [
    "image = cv2.imread(\"C:\\\\Users\\\\athul\\\\3.ComputerVision\\\\Images\\\\14_std.jpg\")\n",
    "dt_in = rgb_to_grey(image)\n",
    "\n",
    "gamma = 20\n",
    "c=1\n",
    "\n",
    "gamma_img = gamma_eq(dt_in, gamma, c)\n",
    "\n",
    "dt_out1 = Image.fromarray(gamma_img,'L')\n",
    "# dt_out1.show()"
   ]
  },
  {
   "cell_type": "markdown",
   "metadata": {},
   "source": [
    "5b. Perform histogram equalization "
   ]
  },
  {
   "cell_type": "code",
   "execution_count": 86,
   "metadata": {},
   "outputs": [],
   "source": [
    "image = cv2.imread(\"C:\\\\Users\\\\athul\\\\3.ComputerVision\\\\Images\\\\14_std.jpg\")\n",
    "dt_in = rgb_to_grey(image)\n",
    "\n",
    "hist_img = hist_eq(dt_in)\n",
    "dt_out2 = Image.fromarray(hist_img,'L')\n",
    "# dt_out2.show()"
   ]
  },
  {
   "cell_type": "markdown",
   "metadata": {},
   "source": [
    "5c. Show the resultant images after a and b, and infer which produces better quality image"
   ]
  },
  {
   "cell_type": "code",
   "execution_count": 87,
   "metadata": {},
   "outputs": [
    {
     "name": "stdout",
     "output_type": "stream",
     "text": [
      "MSE gamma 1855764.0\n",
      "PSNR gamma -177.85086967825077\n",
      "MSE hist 2017929.0\n",
      "PSNR hist -179.5263750153693\n"
     ]
    }
   ],
   "source": [
    "print(\"MSE gamma\", find_mse(dt_in, dt_out1))\n",
    "print(\"PSNR gamma\", find_psnr(dt_in, dt_out1))\n",
    "\n",
    "print(\"MSE hist\", find_mse(dt_in, dt_out2))\n",
    "print(\"PSNR hist\", find_psnr(dt_in, dt_out2))"
   ]
  },
  {
   "cell_type": "markdown",
   "metadata": {},
   "source": [
    "### Median Filtering"
   ]
  },
  {
   "cell_type": "markdown",
   "metadata": {},
   "source": [
    "6a. Perform Median filter and show the resultant image"
   ]
  },
  {
   "cell_type": "code",
   "execution_count": 122,
   "metadata": {},
   "outputs": [
    {
     "name": "stdout",
     "output_type": "stream",
     "text": [
      "Filtering Gamma 0 0 Weighted Avg. Show Statistics 1 1   3x3 1,1,1,1,1,1,1,1,1   3x3 0,-1,0,-1,4,-1,0,-1,0\n",
      "Filtering Gamma 0 0 Weighted Avg. Show Statistics 1 1   3x3 1,1,1,1,1,1,1,1,1   3x3 0,-1,0,-1,4,-1,0,-1,0\n",
      "Filtering Gamma 0 0 Weighted Avg. Show Statistics 1 1   3x3 1,1,1,1,1,1,1,1,1   3x3 0,-1,0,-1,4,-1,0,-1,0\n",
      "Filtering Gamma 0 0 Weighted Avg. Show Statistics 1 1   3x3 1,1,1,1,1,1,1,1,1   3x3 0,-1,0,-1,4,-1,0,-1,0\n",
      "Filtering Gamma 0 0 Weighted Avg. Show Statistics 1 1   3x3 1,1,1,1,1,1,1,1,1   3x3 0,-1,0,-1,4,-1,0,-1,0\n",
      "Filtering Gamma 0 0 Weighted Avg. Show Statistics 1 1   3x3 1,1,1,1,1,1,1,1,1   3x3 0,-1,0,-1,4,-1,0,-1,0\n",
      "Filtering Gamma 0 0 Weighted Avg. Show Statistics 1 1   3x3 1,1,1,1,1,1,1,1,1   3x3 0,-1,0,-1,4,-1,0,-1,0\n",
      "Filtering Gamma 0 0 Weighted Avg. Show Statistics 1 1   3x3 1,1,1,1,1,1,1,1,1   3x3 0,-1,0,-1,4,-1,0,-1,0\n",
      "Filtering Gamma 0 0 Weighted Avg. Show Statistics 1 1   3x3 1,1,1,1,1,1,1,1,1   3x3 0,-1,0,-1,4,-1,0,-1,0\n"
     ]
    }
   ],
   "source": [
    "def fil_med(dt):\n",
    "    med_lst = []\n",
    "    for i in range(dt.shape[0]):\n",
    "        for j in range(dt.shape[1]):\n",
    "\n",
    "            if (i != 0 and i < dt.shape[0]-1) and (j != 0 and j< dt.shape[1]-1):\n",
    "\n",
    "                ngh_lst = [ dt[i-1][j-1], dt[i][j-1], dt[i+1][j-1], \n",
    "                           dt[i+1][j], dt[i+1][j+1], dt[i][j+1], \n",
    "                           dt[i-1][j+1], dt[i-1][j] ]\n",
    "\n",
    "                median = statistics.median(ngh_lst)\n",
    "                med_lst.append(median)\n",
    "\n",
    "            else:\n",
    "                med_lst.append(dt[i][j])\n",
    "\n",
    "    array = np.reshape(med_lst, (dt.shape[0], dt.shape[1]))\n",
    "    array = np.array(array, dtype = np.uint8)\n",
    "    return array"
   ]
  },
  {
   "cell_type": "markdown",
   "metadata": {},
   "source": [
    "Test:"
   ]
  },
  {
   "cell_type": "code",
   "execution_count": 89,
   "metadata": {},
   "outputs": [
    {
     "name": "stderr",
     "output_type": "stream",
     "text": [
      "C:\\Users\\athul\\anaconda3\\lib\\statistics.py:435: RuntimeWarning: overflow encountered in ubyte_scalars\n",
      "  return (data[i - 1] + data[i])/2\n"
     ]
    }
   ],
   "source": [
    "import numpy as np\n",
    "import statistics \n",
    "from PIL import Image\n",
    "\n",
    "image = cv2.imread(\"C:\\\\Users\\\\athul\\\\3.ComputerVision\\\\Images\\\\14_std.jpg\")\n",
    "dt = rgb_to_grey(image)\n",
    "\n",
    "array = fil_med(dt)\n",
    "dt_med = Image.fromarray(array,'L')\n",
    "# dt_med.show()"
   ]
  },
  {
   "cell_type": "markdown",
   "metadata": {},
   "source": [
    "### Mode Filtering"
   ]
  },
  {
   "cell_type": "markdown",
   "metadata": {},
   "source": [
    "6b. Perform Mode filter and show the resultant image"
   ]
  },
  {
   "cell_type": "code",
   "execution_count": 90,
   "metadata": {},
   "outputs": [],
   "source": [
    "def fil_mod(dt):\n",
    "    mod_lst = []\n",
    "    for i in range(dt.shape[0]):\n",
    "        for j in range(dt.shape[1]):\n",
    "\n",
    "            if (i != 0 and i < dt.shape[0]-1) and (j != 0 and j< dt.shape[1]-1):\n",
    "\n",
    "                ngh_lst = [ dt[i-1][j-1], dt[i][j-1], dt[i+1][j-1], \n",
    "                           dt[i+1][j], dt[i+1][j+1], dt[i][j+1], \n",
    "                           dt[i-1][j+1], dt[i-1][j] ]\n",
    "\n",
    "                mode = statistics.mode(ngh_lst)\n",
    "                mod_lst.append(mode)\n",
    "\n",
    "            else:\n",
    "                mod_lst.append(dt[i][j])\n",
    "\n",
    "    array = np.reshape(mod_lst, (dt.shape[0], dt.shape[1]))\n",
    "    array = np.array(array, dtype = np.uint8)\n",
    "    return array"
   ]
  },
  {
   "cell_type": "markdown",
   "metadata": {},
   "source": [
    "Test:"
   ]
  },
  {
   "cell_type": "code",
   "execution_count": 91,
   "metadata": {},
   "outputs": [],
   "source": [
    "import numpy as np\n",
    "import statistics \n",
    "from PIL import Image\n",
    "\n",
    "image = cv2.imread(\"C:\\\\Users\\\\athul\\\\3.ComputerVision\\\\Images\\\\14_std.jpg\")\n",
    "dt = rgb_to_grey(image)\n",
    "\n",
    "array = fil_mod(dt)\n",
    "dt_mod = Image.fromarray(array,'L')\n",
    "# dt_mod.show()"
   ]
  },
  {
   "cell_type": "markdown",
   "metadata": {},
   "source": [
    "6c. Show the resultant images and infer which produces better quality image"
   ]
  },
  {
   "cell_type": "code",
   "execution_count": 92,
   "metadata": {},
   "outputs": [
    {
     "name": "stdout",
     "output_type": "stream",
     "text": [
      "MSE Median Filter 399206.0\n",
      "PSNR Median Filter -147.11938616416379\n",
      "MSE Mode Filter 928419.9999999999\n",
      "PSNR Mode Filter -163.99951900861123\n"
     ]
    }
   ],
   "source": [
    "print(\"MSE Median Filter\", find_mse(dt, dt_med))\n",
    "print(\"PSNR Median Filter\", find_psnr(dt, dt_med))\n",
    "\n",
    "print(\"MSE Mode Filter\", find_mse(dt, dt_mod))\n",
    "print(\"PSNR Mode Filter\", find_psnr(dt, dt_mod))"
   ]
  },
  {
   "cell_type": "markdown",
   "metadata": {},
   "source": [
    "Mode filtering gave better output"
   ]
  },
  {
   "cell_type": "markdown",
   "metadata": {},
   "source": [
    "### Statistics"
   ]
  },
  {
   "cell_type": "markdown",
   "metadata": {},
   "source": [
    "7a. Compute statistical measures: Mean, Mode, Standard deviation and Median of the chosen image"
   ]
  },
  {
   "cell_type": "code",
   "execution_count": 93,
   "metadata": {},
   "outputs": [],
   "source": [
    "def find_statistic(dt):\n",
    "    count = dt.shape[0]*dt.shape[0]\n",
    "\n",
    "    summ = 0\n",
    "    pixel_lst = []\n",
    "    for i in range(dt.shape[0]):\n",
    "        for j in range(dt.shape[1]):\n",
    "            summ = summ + dt[i][j]\n",
    "            pixel_lst.append(dt[i][j])\n",
    "\n",
    "    mean = summ/count  \n",
    "\n",
    "    var_sum = 0\n",
    "    for i in range(dt.shape[0]):\n",
    "        for j in range(dt.shape[1]):\n",
    "            var_sum = var_sum + (dt[i][j]-mean)**2\n",
    "\n",
    "    variance = var_sum/(count-1)\n",
    "    sd = variance**0.5\n",
    "    mode = statistics.mode(pixel_lst)\n",
    "    median = statistics.median (pixel_lst)\n",
    "\n",
    "    strr = \" \"\n",
    "    print(\"Sum\", summ)\n",
    "    strr = strr + \"Sum: \" + str(summ) + \",\"\n",
    "    print(\"Count\", count)\n",
    "    strr = strr + \" Count: \" + str(count) + \",\"\n",
    "    print(\"Mean\", mean)\n",
    "    strr = strr + \" Mean: \" + str(mean) + \",\"\n",
    "    print(\"Mode\", mode)\n",
    "    strr = strr + \" Mode: \" + str(mode) + \",\"\n",
    "    print(\"Median\", median)\n",
    "    strr = strr + \" Median: \" + str(median) + \",\"\n",
    "    print(\"Variance\", variance)\n",
    "    strr = strr + \" Variance: \" + str(variance) + \",\"\n",
    "    print(\"Standarad Deviation\", sd)\n",
    "    strr = strr + \" Standarad Deviation: \" + str(sd) + \";\"\n",
    "\n",
    "    return strr"
   ]
  },
  {
   "cell_type": "markdown",
   "metadata": {},
   "source": [
    "Test:"
   ]
  },
  {
   "cell_type": "code",
   "execution_count": 94,
   "metadata": {},
   "outputs": [
    {
     "name": "stdout",
     "output_type": "stream",
     "text": [
      "Sum 3728113\n",
      "Count 22500\n",
      "Mean 165.6939111111111\n",
      "Mode 0\n",
      "Median 61.0\n",
      "Variance 4649.026488547031\n",
      "Standarad Deviation 68.18376997898423\n"
     ]
    },
    {
     "data": {
      "text/plain": [
       "' Sum: 3728113, Count: 22500, Mean: 165.6939111111111, Mode: 0, Median: 61.0, Variance: 4649.026488547031, Standarad Deviation: 68.18376997898423;'"
      ]
     },
     "execution_count": 94,
     "metadata": {},
     "output_type": "execute_result"
    }
   ],
   "source": [
    "import numpy as np\n",
    "import statistics \n",
    "from PIL import Image\n",
    "\n",
    "image = cv2.imread(\"C:\\\\Users\\\\athul\\\\3.ComputerVision\\\\Images\\\\14_std.jpg\")\n",
    "dt = rgb_to_grey(image)\n",
    "\n",
    "find_statistic(dt)"
   ]
  },
  {
   "cell_type": "markdown",
   "metadata": {},
   "source": [
    "### BitPlanes"
   ]
  },
  {
   "cell_type": "markdown",
   "metadata": {},
   "source": [
    "7b. Represent the image as individual bit planes and show the planes as individual images."
   ]
  },
  {
   "cell_type": "code",
   "execution_count": 95,
   "metadata": {},
   "outputs": [],
   "source": [
    "def get_bitplanes(dt, show_planes):\n",
    "    lst = []\n",
    "    for i in range(dt.shape[0]):\n",
    "        for j in range(dt.shape[1]):\n",
    "            lst.append(dt[i][j])\n",
    "\n",
    "\n",
    "    lst = [ np.binary_repr(i, width=8) for i in lst]\n",
    "    bit_img = []\n",
    "\n",
    "    eight_bit_img = (np.array([int(i[0]) for i in lst]) * 128).reshape(dt.shape[0],dt.shape[1])\n",
    "    seven_bit_img = (np.array([int(i[1]) for i in lst]) * 64).reshape(dt.shape[0],dt.shape[1])\n",
    "    six_bit_img = (np.array([int(i[2]) for i in lst]) * 32).reshape(dt.shape[0],dt.shape[1])\n",
    "    five_bit_img = (np.array([int(i[3]) for i in lst]) * 16).reshape(dt.shape[0],dt.shape[1])\n",
    "    four_bit_img = (np.array([int(i[4]) for i in lst]) * 8).reshape(dt.shape[0],dt.shape[1])\n",
    "    three_bit_img = (np.array([int(i[5]) for i in lst]) * 4).reshape(dt.shape[0],dt.shape[1])\n",
    "    two_bit_img = (np.array([int(i[6]) for i in lst]) * 2).reshape(dt.shape[0],dt.shape[1])\n",
    "    one_bit_img = (np.array([int(i[7]) for i in lst]) * 1).reshape(dt.shape[0],dt.shape[1])\n",
    "    \n",
    "    bit_img.append(eight_bit_img)\n",
    "    bit_img.append(seven_bit_img)\n",
    "    bit_img.append(six_bit_img)\n",
    "    bit_img.append(five_bit_img)\n",
    "    bit_img.append(four_bit_img)\n",
    "    bit_img.append(three_bit_img)\n",
    "    bit_img.append(two_bit_img)\n",
    "    bit_img.append(one_bit_img)\n",
    "    \n",
    "\n",
    "    array = np.reshape(bit_img[8-show_planes], (dt.shape[0], dt.shape[1]))\n",
    "    array = np.array(array, dtype = np.uint8)\n",
    "    \n",
    "    return array, bit_img"
   ]
  },
  {
   "cell_type": "markdown",
   "metadata": {},
   "source": [
    "Test:"
   ]
  },
  {
   "cell_type": "code",
   "execution_count": 96,
   "metadata": {},
   "outputs": [],
   "source": [
    "import numpy as np\n",
    "import statistics \n",
    "from PIL import Image\n",
    "\n",
    "image = cv2.imread(\"image.jpg\")\n",
    "dt = rgb_to_grey(image)\n",
    "\n",
    "show_planes = 8\n",
    "\n",
    "array, bit_img = get_bitplanes(dt, show_planes)\n",
    "bit_dt = Image.fromarray(array,'L')\n",
    "\n",
    "# bit_dt.show()"
   ]
  },
  {
   "cell_type": "markdown",
   "metadata": {},
   "source": [
    "### Reconstruct Bit-Planes"
   ]
  },
  {
   "cell_type": "markdown",
   "metadata": {},
   "source": [
    "7c. Reconstruct the image with 3 most significant bit planes."
   ]
  },
  {
   "cell_type": "code",
   "execution_count": 97,
   "metadata": {},
   "outputs": [],
   "source": [
    "def get_bitrecon(dt, bit_planes):\n",
    "    \n",
    "    array, bit_img = get_bitplanes(dt, 8)\n",
    "    \n",
    "    arr = np.zeros(dt.shape[0]*dt.shape[1])\n",
    "    img_comb = np.reshape(arr, (dt.shape[0], dt.shape[1]))\n",
    "    \n",
    "    for i in range(bit_planes):\n",
    "        img_comb = img_comb + bit_img[i]\n",
    "\n",
    "    array = np.reshape(img_comb, (dt.shape[0], dt.shape[1]))\n",
    "    array = np.array(array, dtype = np.uint8)\n",
    "    return array"
   ]
  },
  {
   "cell_type": "markdown",
   "metadata": {},
   "source": [
    "Test:"
   ]
  },
  {
   "cell_type": "code",
   "execution_count": 98,
   "metadata": {},
   "outputs": [],
   "source": [
    "image = cv2.imread(\"image.jpg\")\n",
    "dt = rgb_to_grey(image)\n",
    "\n",
    "bit_planes = 1\n",
    "\n",
    "array = get_bitrecon(dt, bit_planes)\n",
    "comb_dt = Image.fromarray(array,'L')\n",
    "# comb_dt.show()"
   ]
  },
  {
   "cell_type": "markdown",
   "metadata": {},
   "source": [
    "7d. Compute quality metrics to estimate the quality of the resultant image."
   ]
  },
  {
   "cell_type": "code",
   "execution_count": 99,
   "metadata": {},
   "outputs": [
    {
     "name": "stdout",
     "output_type": "stream",
     "text": [
      "MSE Median Filter 2260173.0\n",
      "PSNR Median Filter -181.79376743665816\n"
     ]
    }
   ],
   "source": [
    "print(\"MSE Median Filter\", find_mse(dt, comb_dt))\n",
    "print(\"PSNR Median Filter\", find_psnr(dt, comb_dt))"
   ]
  },
  {
   "cell_type": "markdown",
   "metadata": {},
   "source": [
    "### Smoothing"
   ]
  },
  {
   "cell_type": "markdown",
   "metadata": {},
   "source": [
    "8a. Smoothing by a choosing filter based on user choice (size and coefficients)"
   ]
  },
  {
   "cell_type": "markdown",
   "metadata": {},
   "source": [
    "    Smoothing Spatial Filters • Smoothing filters are used for noise reduction and blurring operations. • It takes into account the pixels surrounding it in order to make a determination of a more accurate version of this pixel. • By taking neighboring pixels into consideration, extreme “noisy” pixels can be filtered out. "
   ]
  },
  {
   "cell_type": "code",
   "execution_count": 100,
   "metadata": {},
   "outputs": [],
   "source": [
    "def find_smooth(dt, smooth_size, filter_coeff):\n",
    "    x = filter_coeff.split(\",\")\n",
    "    x = [int(i) for i in x]\n",
    "    x = np.array(x)\n",
    "\n",
    "    if len(x) == 9:\n",
    "        filter_coeff = x.reshape(3, 3)\n",
    "    else:\n",
    "        filter_coeff = x.reshape(5, 5)\n",
    "    \n",
    "    filter_h, filter_w = smooth_size, smooth_size\n",
    "\n",
    "    \n",
    "    pad_h, pad_w = int((filter_h-1)/2), int((filter_w-1)/2)\n",
    "    \n",
    "    data_h = int(dt.shape[0]+ (2 * pad_h))\n",
    "    data_w = int(dt.shape[1] + (2 * pad_w))\n",
    "\n",
    "    data = np.zeros([data_h , data_w])\n",
    "\n",
    "    data[pad_h:int(data_h - pad_h), pad_w:int(data_w - pad_w)] = dt\n",
    "\n",
    "    out_lst = []\n",
    "    for i in range(dt.shape[0]):\n",
    "        for j in range(dt.shape[1]):\n",
    "            out_lst.append(np.sum((data[i:i + filter_h, j:j + filter_w])*filter_coeff)/(filter_h*filter_w))\n",
    "\n",
    "\n",
    "\n",
    "    array = np.reshape(out_lst, (dt.shape[0], dt.shape[1]))\n",
    "    array = np.array(array, dtype = np.uint8)\n",
    "\n",
    "    return array"
   ]
  },
  {
   "cell_type": "markdown",
   "metadata": {},
   "source": [
    "Test:"
   ]
  },
  {
   "cell_type": "code",
   "execution_count": 101,
   "metadata": {},
   "outputs": [],
   "source": [
    "import numpy as np\n",
    "from PIL import Image\n",
    "\n",
    "image = cv2.imread(\"C:\\\\Users\\\\athul\\\\3.ComputerVision\\\\Images\\\\14_std.jpg\")\n",
    "dt = rgb_to_grey(image)\n",
    "\n",
    "filter_coeff = '1,1,1,1,1,1,1,1,1'\n",
    "\n",
    "smooth_size = 3\n",
    "\n",
    "array = find_smooth(dt, smooth_size, filter_coeff)\n",
    "sm_dt = Image.fromarray(array,'L')\n",
    "# sm_dt.show()"
   ]
  },
  {
   "cell_type": "markdown",
   "metadata": {},
   "source": [
    "### Sharpening"
   ]
  },
  {
   "cell_type": "markdown",
   "metadata": {},
   "source": [
    "8b. Sharpen by a user defined filter "
   ]
  },
  {
   "cell_type": "code",
   "execution_count": 120,
   "metadata": {},
   "outputs": [
    {
     "name": "stdout",
     "output_type": "stream",
     "text": [
      "Sharpening Gamma 0 0 Median Show Statistics 1 1   3x3 1,1,1,1,1,1,1,1,1   3x3 0,-1,0,-1,4,-1,0,-1,0\n",
      "Sharpening Gamma 0 0 Median Show Statistics 1 1   3x3 1,1,1,1,1,1,1,1,1   3x3 0,-1,0,-1,4,-1,0,-1,0\n",
      "Sharpening Gamma 0 0 Median Show Statistics 1 1   3x3 1,1,1,1,1,1,1,1,1   3x3 0,-1,0,-1,4,-1,0,-1,0\n",
      "Sharpening Gamma 0 0 Median Show Statistics 1 1   3x3 1,1,1,1,1,1,1,1,1   3x3 0,-1,0,-1,4,-1,0,-1,0\n",
      "Sharpening Gamma 0 0 Median Show Statistics 1 1   3x3 1,1,1,1,1,1,1,1,1   3x3 0,-1,0,-1,4,-1,0,-1,0\n"
     ]
    }
   ],
   "source": [
    "def find_sharp(dt, sharp_size, filter_coeff):\n",
    "    \n",
    "    x = filter_coeff.split(\",\")\n",
    "    x = [int(i) for i in x]\n",
    "    x = np.array(x)\n",
    "\n",
    "    if len(x) == 9:\n",
    "        filter_coeff = x.reshape(3, 3)\n",
    "    else:\n",
    "        filter_coeff = x.reshape(5, 5)\n",
    "    \n",
    "    filter_h, filter_w = sharp_size, sharp_size\n",
    "    \n",
    "    pad_h, pad_w = int((filter_h-1)/2), int((filter_w-1)/2)\n",
    "\n",
    "    data_h = int(dt.shape[0]+ (2 * pad_h))\n",
    "    data_w = int(dt.shape[1] + (2 * pad_w))\n",
    "\n",
    "    data = np.zeros([data_h , data_w])\n",
    "\n",
    "    data[pad_h:int(data_h - pad_h), pad_w:int(data_w - pad_w)] = dt\n",
    "\n",
    "    out_lst = []\n",
    "    for i in range(dt.shape[0]):\n",
    "        for j in range(dt.shape[1]):\n",
    "            out_lst.append(np.sum((data[i:i + filter_h, j:j + filter_w])*filter_coeff)/(filter_h*filter_w))\n",
    "\n",
    "\n",
    "\n",
    "    array = np.reshape(out_lst, (dt.shape[0], dt.shape[1]))\n",
    "    array = np.array(array, dtype = np.uint8)\n",
    "\n",
    "    return array"
   ]
  },
  {
   "cell_type": "code",
   "execution_count": 103,
   "metadata": {},
   "outputs": [],
   "source": [
    "import numpy as np\n",
    "from PIL import Image\n",
    "\n",
    "image = cv2.imread(\"C:\\\\Users\\\\athul\\\\3.ComputerVision\\\\Images\\\\14_std.jpg\")\n",
    "dt = rgb_to_grey(image)\n",
    "\n",
    "filter_coeff = '0,-1,0,-1,4,-1,0,-1,0'\n",
    "\n",
    "sharp_size = 3\n",
    "\n",
    "array = find_sharp(dt, sharp_size, filter_coeff)\n",
    "sh_dt = Image.fromarray(array,'L')\n",
    "# sh_dt.show()"
   ]
  },
  {
   "cell_type": "markdown",
   "metadata": {},
   "source": [
    "8c. Apply Roberts or Sobel filter and show the result"
   ]
  },
  {
   "cell_type": "markdown",
   "metadata": {},
   "source": [
    "### Sobels Filter"
   ]
  },
  {
   "cell_type": "code",
   "execution_count": 104,
   "metadata": {},
   "outputs": [],
   "source": [
    "def get_sobel(dt_in):\n",
    "    filter_h, filter_w = 3, 3\n",
    "\n",
    "    filter_coeffx = [[-1, 0, 1], \n",
    "                    [-2, 0, 2], \n",
    "                    [-1, 0, 1]]\n",
    "\n",
    "    filter_coeffy = [[-1, -2, -1], \n",
    "                    [0, 0, 0], \n",
    "                    [1, 2, 1]]\n",
    "\n",
    "    pad_h, pad_w = int((filter_h-1)/2), int((filter_w-1)/2)\n",
    "\n",
    "    data_h = int(dt_in.shape[0]+ (2 * pad_h))\n",
    "    data_w = int(dt_in.shape[1] + (2 * pad_w))\n",
    "\n",
    "    data = np.zeros([data_h , data_w])\n",
    "\n",
    "    data[pad_h:int(data_h - pad_h), pad_w:int(data_w - pad_w)] = dt_in\n",
    "\n",
    "    out_lst = []\n",
    "    out_lstx = []\n",
    "    out_lsty = []\n",
    "    for i in range(dt_in.shape[0]):\n",
    "        for j in range(dt_in.shape[1]):\n",
    "            out_lstx.append(np.sum((data[i:i + filter_h, j:j + filter_w])*filter_coeffx)/(filter_h*filter_w))\n",
    "            out_lsty.append(np.sum((data[i:i + filter_h, j:j + filter_w])*filter_coeffy)/(filter_h*filter_w))\n",
    "\n",
    "    out_lst = [ abs(i) + abs(j) for i,j in zip(out_lstx, out_lsty) ]\n",
    "\n",
    "    array = np.reshape(out_lst, (dt_in.shape[0], dt_in.shape[1]))\n",
    "    array = np.array(array, dtype = np.uint8)\n",
    "    \n",
    "    return array"
   ]
  },
  {
   "cell_type": "markdown",
   "metadata": {},
   "source": [
    "Test"
   ]
  },
  {
   "cell_type": "code",
   "execution_count": 105,
   "metadata": {},
   "outputs": [],
   "source": [
    "import numpy as np\n",
    "from PIL import Image\n",
    "\n",
    "image = cv2.imread(\"C:\\\\Users\\\\athul\\\\3.ComputerVision\\\\Images\\\\14_std.jpg\")\n",
    "dt_in = rgb_to_grey(image)\n",
    "\n",
    "array = get_sobel(dt_in)\n",
    "dt_sb = Image.fromarray(array,'L')\n",
    "# dt_sb.show()"
   ]
  },
  {
   "cell_type": "markdown",
   "metadata": {},
   "source": [
    "8d. Compare which filter is better for the chosen image for smoothing and sharpening using quality metrics. "
   ]
  },
  {
   "cell_type": "code",
   "execution_count": 106,
   "metadata": {},
   "outputs": [
    {
     "name": "stdout",
     "output_type": "stream",
     "text": [
      "MSE Sobel Filter 2360566.0\n",
      "PSNR Sobel Filter -182.66296867194202\n"
     ]
    }
   ],
   "source": [
    "print(\"MSE Sobel Filter\", find_mse(dt_in, dt_sb))\n",
    "print(\"PSNR Sobel Filter\", find_psnr(dt_in, dt_sb))"
   ]
  },
  {
   "cell_type": "code",
   "execution_count": null,
   "metadata": {},
   "outputs": [],
   "source": []
  },
  {
   "cell_type": "markdown",
   "metadata": {},
   "source": [
    "9. Generate a synthetic image with four concentric squares of 4 intensity values (40, 80, 160, 220). Apply filters based on user choice and show the resultant images and your inference. "
   ]
  },
  {
   "cell_type": "code",
   "execution_count": 107,
   "metadata": {},
   "outputs": [
    {
     "name": "stdout",
     "output_type": "stream",
     "text": [
      "[[ 40  40  40 ...  40  40  40]\n",
      " [ 40  40  40 ...  40  40  40]\n",
      " [ 40  40  40 ...  40  40  40]\n",
      " ...\n",
      " [220 220 220 ... 220 220 220]\n",
      " [220 220 220 ... 220 220 220]\n",
      " [220 220 220 ... 220 220 220]]\n"
     ]
    }
   ],
   "source": [
    "import numpy as np\n",
    "from PIL import Image\n",
    "\n",
    "arr = np.zeros(256*256)\n",
    "array = np.reshape(arr, (256, 256))\n",
    "\n",
    "array[0:5*int(256/10)][0:5*int(256/10)] = 40\n",
    "array[0:5*int(256/10)][5*int(256/10):] = 80\n",
    "array[5*int(256/10):][0:5*int(256/10)] = 160\n",
    "array[5*int(256/10):][5*int(256/10):] = 220\n",
    "\n",
    "\n",
    "# l - Greyscale Mode\n",
    "array = np.array(array, dtype = np.uint8)\n",
    "data = Image.fromarray(array,'L')\n",
    "data.save('synth.jpg')\n",
    "print(array)\n",
    "\n",
    "# data.show()"
   ]
  },
  {
   "cell_type": "code",
   "execution_count": 108,
   "metadata": {},
   "outputs": [],
   "source": [
    "image = cv2.imread(\"synth.jpg\")\n",
    "dt = rgb_to_grey(image)"
   ]
  },
  {
   "cell_type": "code",
   "execution_count": 109,
   "metadata": {},
   "outputs": [
    {
     "name": "stdout",
     "output_type": "stream",
     "text": [
      "MSE Mode Filter 46736.0\n",
      "PSNR Mode Filter -104.22012958938191\n"
     ]
    }
   ],
   "source": [
    "array = fil_mod(dt)\n",
    "dt_mod = Image.fromarray(array,'L')\n",
    "# dt_mod.show()\n",
    "\n",
    "print(\"MSE Mode Filter\", find_mse(dt, dt_mod))\n",
    "print(\"PSNR Mode Filter\", find_psnr(dt, dt_mod))"
   ]
  },
  {
   "cell_type": "code",
   "execution_count": 110,
   "metadata": {},
   "outputs": [
    {
     "name": "stdout",
     "output_type": "stream",
     "text": [
      "MSE Median Filter 14224.0\n",
      "PSNR Median Filter -80.4284482519052\n"
     ]
    }
   ],
   "source": [
    "array = fil_med(dt)\n",
    "dt_med = Image.fromarray(array,'L')\n",
    "# dt_med.show()\n",
    "\n",
    "print(\"MSE Median Filter\", find_mse(dt, dt_med))\n",
    "print(\"PSNR Median Filter\", find_psnr(dt, dt_med))"
   ]
  },
  {
   "cell_type": "markdown",
   "metadata": {},
   "source": [
    "Median Filter is better since mse value is less compared to mode filtering."
   ]
  },
  {
   "cell_type": "code",
   "execution_count": 149,
   "metadata": {},
   "outputs": [],
   "source": [
    "def choice(image1, selector, transformation, gamma, \n",
    "              c_slider, filtering, show_planes, \n",
    "              bit_planes, smoothing, smooth_size, filter_coeff_sm,\n",
    "              sharpening, sharp_size, filter_coeff_sh):\n",
    "    \n",
    "    print(selector, transformation, gamma, \n",
    "              c_slider, filtering, \n",
    "              statistic, show_planes, \n",
    "              bit_planes, smoothing, smooth_size, filter_coeff_sm,\n",
    "              sharpening, sharp_size, filter_coeff_sh)\n",
    "    \n",
    "    image2 = image1\n",
    "    \n",
    "    stat_out = \" \"\n",
    "    \n",
    "    if selector == \"Transformations\":\n",
    "        if transformation == \"Histogram Equalization\":\n",
    "            \n",
    "            hist_img = hist_eq(rgb_to_grey(image1))\n",
    "            image2 = Image.fromarray(hist_img,'L')\n",
    "#             stat_out = find_statistic(rgb_to_grey(image1))\n",
    "            \n",
    "        elif transformation == \"Gamma\":\n",
    "            gamma_img = gamma_eq(rgb_to_grey(image1), gamma, c_slider)\n",
    "            image2 = Image.fromarray(gamma_img,'L')\n",
    "#             stat_out = find_statistic(rgb_to_grey(image1))\n",
    "    \n",
    "    elif selector == \"Filtering\":\n",
    "        if filtering == \"Median\":\n",
    "            med_img = fil_med(rgb_to_grey(image1))\n",
    "            image2 = Image.fromarray(med_img,'L')\n",
    "#             stat_out = find_statistic(rgb_to_grey(image1))\n",
    "            \n",
    "        elif filtering == \"Mode\":\n",
    "            mod_img = fil_mod(rgb_to_grey(image1))\n",
    "            image2 = Image.fromarray(mod_img,'L')\n",
    "#             stat_out = find_statistic(rgb_to_grey(image1))\n",
    "            \n",
    "        elif filtering == \"Average\":\n",
    "            mod_img = find_avg(rgb_to_grey(image1))\n",
    "            image2 = Image.fromarray(mod_img,'L')\n",
    "#             stat_out = find_statistic(rgb_to_grey(image1))\n",
    "            \n",
    "        elif filtering == \"Weighted Avg.\":\n",
    "            mod_img = find_wg_avg(rgb_to_grey(image1))\n",
    "            image2 = Image.fromarray(mod_img,'L')\n",
    "#             stat_out = find_statistic(rgb_to_grey(image1))\n",
    "            \n",
    "    elif selector == \"Statistical Measures\":\n",
    "        stat_out = find_statistic(rgb_to_grey(image1))\n",
    "        image2 = image1\n",
    "\n",
    "    elif selector == \"Bit Planes\":\n",
    "        bit_pl, bit_img = get_bitplanes(rgb_to_grey(image1), show_planes)\n",
    "        image2 = Image.fromarray(bit_pl,'L')\n",
    "#         stat_out = find_statistic(rgb_to_grey(image1))\n",
    "            \n",
    "    elif selector == \"Reconstruct Bit Planes\":\n",
    "        bit_recon = get_bitrecon(rgb_to_grey(image1), bit_planes)\n",
    "        image2 = Image.fromarray(bit_recon,'L')\n",
    "#         stat_out = find_statistic(rgb_to_grey(image1))\n",
    "            \n",
    "    elif selector == \"Smoothing\":\n",
    "        if smoothing == \" \":\n",
    "            if smooth_size == \"3x3\":\n",
    "                smooth_size = 3\n",
    "            else:\n",
    "                smooth_size = 5\n",
    "                \n",
    "            smoth_img = find_smooth(rgb_to_grey(image1), smooth_size, filter_coeff_sm)\n",
    "            image2 = Image.fromarray(smoth_img,'L')\n",
    "#             stat_out = find_statistic(rgb_to_grey(image1))\n",
    "        \n",
    "    elif selector == \"Sharpening\":\n",
    "        if sharpening == \" \":\n",
    "            if sharp_size == \"3x3\":\n",
    "                sharp_size = 3\n",
    "            else:\n",
    "                sharp_size = 5\n",
    "                \n",
    "            sh_img = find_sharp(rgb_to_grey(image1), sharp_size, filter_coeff_sh)\n",
    "            image2 = Image.fromarray(sh_img,'L')\n",
    "#             stat_out = find_statistic(rgb_to_grey(image1))\n",
    "\n",
    "    elif selector == \"Edge Detection - Sobels\":\n",
    "        sob_img = get_sobel(rgb_to_grey(image1))\n",
    "        image2 = Image.fromarray(sob_img,'L')\n",
    "#         stat_out = find_statistic(rgb_to_grey(image1))\n",
    "  \n",
    "    return image2, stat_out"
   ]
  },
  {
   "cell_type": "code",
   "execution_count": 150,
   "metadata": {},
   "outputs": [
    {
     "name": "stdout",
     "output_type": "stream",
     "text": [
      "IMPORTANT: You are using gradio version 1.4.0, however version 1.5.0 is available, please upgrade.\n",
      "--------\n",
      "Running locally at: http://127.0.0.1:7883/\n",
      "This share link will expire in 24 hours. If you need a permanent link, email support@gradio.app\n",
      "Running on External URL: https://35995.gradio.app\n",
      "Interface loading below...\n"
     ]
    },
    {
     "data": {
      "text/html": [
       "\n",
       "        <iframe\n",
       "            width=\"1000\"\n",
       "            height=\"500\"\n",
       "            src=\"https://35995.gradio.app\"\n",
       "            frameborder=\"0\"\n",
       "            allowfullscreen\n",
       "        ></iframe>\n",
       "        "
      ],
      "text/plain": [
       "<IPython.lib.display.IFrame at 0x1a54e27b8e0>"
      ]
     },
     "metadata": {},
     "output_type": "display_data"
    },
    {
     "data": {
      "text/plain": [
       "(<Flask 'gradio.networking'>,\n",
       " 'http://127.0.0.1:7883/',\n",
       " 'https://35995.gradio.app')"
      ]
     },
     "execution_count": 150,
     "metadata": {},
     "output_type": "execute_result"
    },
    {
     "name": "stdout",
     "output_type": "stream",
     "text": [
      "Statistical Measures Gamma 0 0 Median <gradio.inputs.Radio object at 0x000001A54D4FA280> 1 1   3x3 1,1,1,1,1,1,1,1,1   3x3 0,-1,0,-1,4,-1,0,-1,0\n",
      "Sum 10725682\n",
      "Count 89401\n",
      "Mean 119.9727296115256\n",
      "Mode 8\n",
      "Median 140\n",
      "Variance 5439.043909560909\n",
      "Standarad Deviation 73.74987396301711\n",
      "Statistical Measures Gamma 0 0 Median <gradio.inputs.Radio object at 0x000001A54D4FA280> 1 1   3x3 1,1,1,1,1,1,1,1,1   3x3 0,-1,0,-1,4,-1,0,-1,0\n",
      "Sum 10725682\n",
      "Count 89401\n",
      "Mean 119.9727296115256\n",
      "Mode 8\n",
      "Median 140\n",
      "Variance 5439.043909560909\n",
      "Standarad Deviation 73.74987396301711\n",
      "Statistical Measures Gamma 0 0 Median <gradio.inputs.Radio object at 0x000001A54D4FA280> 1 1   3x3 1,1,1,1,1,1,1,1,1   3x3 0,-1,0,-1,4,-1,0,-1,0\n",
      "Sum 10725682\n",
      "Count 89401\n",
      "Mean 119.9727296115256\n",
      "Mode 8\n",
      "Median 140\n",
      "Variance 5439.043909560909\n",
      "Standarad Deviation 73.74987396301711\n",
      "Statistical Measures Gamma 0 0 Median <gradio.inputs.Radio object at 0x000001A54D4FA280> 1 1   3x3 1,1,1,1,1,1,1,1,1   3x3 0,-1,0,-1,4,-1,0,-1,0\n",
      "Sum 10725682\n",
      "Count 89401\n",
      "Mean 119.9727296115256\n",
      "Mode 8\n",
      "Median 140\n",
      "Variance 5439.043909560909\n",
      "Standarad Deviation 73.74987396301711\n",
      "Statistical Measures Gamma 0 0 Median <gradio.inputs.Radio object at 0x000001A54D4FA280> 1 1   3x3 1,1,1,1,1,1,1,1,1   3x3 0,-1,0,-1,4,-1,0,-1,0\n",
      "Sum 10725682\n",
      "Count 89401\n",
      "Mean 119.9727296115256\n",
      "Mode 8\n",
      "Median 140\n",
      "Variance 5439.043909560909\n",
      "Standarad Deviation 73.74987396301711\n",
      "Statistical Measures Gamma 0 0 Median <gradio.inputs.Radio object at 0x000001A54D4FA280> 1 1   3x3 1,1,1,1,1,1,1,1,1   3x3 0,-1,0,-1,4,-1,0,-1,0\n",
      "Sum 10725682\n",
      "Count 89401\n",
      "Mean 119.9727296115256\n",
      "Mode 8\n",
      "Median 140\n",
      "Variance 5439.043909560909\n",
      "Standarad Deviation 73.74987396301711\n",
      "Statistical Measures Gamma 0 0 Median <gradio.inputs.Radio object at 0x000001A54D4FA280> 1 1   3x3 1,1,1,1,1,1,1,1,1   3x3 0,-1,0,-1,4,-1,0,-1,0\n",
      "Sum 10725682\n",
      "Count 89401\n",
      "Mean 119.9727296115256\n",
      "Mode 8\n",
      "Median 140\n",
      "Variance 5439.043909560909\n",
      "Standarad Deviation 73.74987396301711\n",
      "Transformations Histogram Equalization 0 0 Median <gradio.inputs.Radio object at 0x000001A54D4FA280> 1 1   3x3 1,1,1,1,1,1,1,1,1   3x3 0,-1,0,-1,4,-1,0,-1,0\n",
      "Transformations Histogram Equalization 0 0 Median <gradio.inputs.Radio object at 0x000001A54D4FA280> 1 1   3x3 1,1,1,1,1,1,1,1,1   3x3 0,-1,0,-1,4,-1,0,-1,0\n",
      "Transformations Gamma 9.3 14 Median <gradio.inputs.Radio object at 0x000001A54D4FA280> 1 1   3x3 1,1,1,1,1,1,1,1,1   3x3 0,-1,0,-1,4,-1,0,-1,0\n",
      "Transformations Gamma 9.3 14 Median <gradio.inputs.Radio object at 0x000001A54D4FA280> 1 1   3x3 1,1,1,1,1,1,1,1,1   3x3 0,-1,0,-1,4,-1,0,-1,0\n",
      "Transformations Gamma 6.8 11 Median <gradio.inputs.Radio object at 0x000001A54D4FA280> 1 1   3x3 1,1,1,1,1,1,1,1,1   3x3 0,-1,0,-1,4,-1,0,-1,0\n",
      "Transformations Gamma 6.8 7 Median <gradio.inputs.Radio object at 0x000001A54D4FA280> 1 1   3x3 1,1,1,1,1,1,1,1,1   3x3 0,-1,0,-1,4,-1,0,-1,0\n",
      "Transformations Gamma 6.8 7 Median <gradio.inputs.Radio object at 0x000001A54D4FA280> 1 1   3x3 1,1,1,1,1,1,1,1,1   3x3 0,-1,0,-1,4,-1,0,-1,0\n",
      "Transformations Gamma 6.8 7 Median <gradio.inputs.Radio object at 0x000001A54D4FA280> 1 1   3x3 1,1,1,1,1,1,1,1,1   3x3 0,-1,0,-1,4,-1,0,-1,0\n",
      "Transformations Gamma 6.8 7 Median <gradio.inputs.Radio object at 0x000001A54D4FA280> 1 1   3x3 1,1,1,1,1,1,1,1,1   3x3 0,-1,0,-1,4,-1,0,-1,0\n",
      "Transformations Gamma 6.8 7 Median <gradio.inputs.Radio object at 0x000001A54D4FA280> 1 1   3x3 1,1,1,1,1,1,1,1,1   3x3 0,-1,0,-1,4,-1,0,-1,0\n",
      "Transformations Gamma 6.8 7 Median <gradio.inputs.Radio object at 0x000001A54D4FA280> 1 1   3x3 1,1,1,1,1,1,1,1,1   3x3 0,-1,0,-1,4,-1,0,-1,0\n",
      "Transformations Gamma 6.8 7 Median <gradio.inputs.Radio object at 0x000001A54D4FA280> 1 1   3x3 1,1,1,1,1,1,1,1,1   3x3 0,-1,0,-1,4,-1,0,-1,0\n",
      "Transformations Gamma 6.8 7 Median <gradio.inputs.Radio object at 0x000001A54D4FA280> 1 1   3x3 1,1,1,1,1,1,1,1,1   3x3 0,-1,0,-1,4,-1,0,-1,0\n",
      "Transformations Gamma 6.8 7 Median <gradio.inputs.Radio object at 0x000001A54D4FA280> 1 1   3x3 1,1,1,1,1,1,1,1,1   3x3 0,-1,0,-1,4,-1,0,-1,0\n",
      "Transformations Gamma 6.8 7 Median <gradio.inputs.Radio object at 0x000001A54D4FA280> 1 1   3x3 1,1,1,1,1,1,1,1,1   3x3 0,-1,0,-1,4,-1,0,-1,0\n",
      "Transformations Gamma 6.8 7 Median <gradio.inputs.Radio object at 0x000001A54D4FA280> 1 1   3x3 1,1,1,1,1,1,1,1,1   3x3 0,-1,0,-1,4,-1,0,-1,0\n",
      "Transformations Gamma 6.8 7 Median <gradio.inputs.Radio object at 0x000001A54D4FA280> 1 1   3x3 1,1,1,1,1,1,1,1,1   3x3 0,-1,0,-1,4,-1,0,-1,0\n",
      "Transformations Gamma 6.8 7 Median <gradio.inputs.Radio object at 0x000001A54D4FA280> 1 1   3x3 1,1,1,1,1,1,1,1,1   3x3 0,-1,0,-1,4,-1,0,-1,0\n",
      "Transformations Gamma 6.8 7 Median <gradio.inputs.Radio object at 0x000001A54D4FA280> 1 1   3x3 1,1,1,1,1,1,1,1,1   3x3 0,-1,0,-1,4,-1,0,-1,0\n",
      "Transformations Gamma 6.8 7 Median <gradio.inputs.Radio object at 0x000001A54D4FA280> 1 1   3x3 1,1,1,1,1,1,1,1,1   3x3 0,-1,0,-1,4,-1,0,-1,0\n",
      "Transformations Gamma 6.8 7 Median <gradio.inputs.Radio object at 0x000001A54D4FA280> 1 1   3x3 1,1,1,1,1,1,1,1,1   3x3 0,-1,0,-1,4,-1,0,-1,0\n",
      "Transformations Gamma 6.8 7 Median <gradio.inputs.Radio object at 0x000001A54D4FA280> 1 1   3x3 1,1,1,1,1,1,1,1,1   3x3 0,-1,0,-1,4,-1,0,-1,0\n",
      "Transformations Gamma 6.8 7 Median <gradio.inputs.Radio object at 0x000001A54D4FA280> 1 1   3x3 1,1,1,1,1,1,1,1,1   3x3 0,-1,0,-1,4,-1,0,-1,0\n",
      "Transformations Gamma 6.8 7 Median <gradio.inputs.Radio object at 0x000001A54D4FA280> 1 1   3x3 1,1,1,1,1,1,1,1,1   3x3 0,-1,0,-1,4,-1,0,-1,0\n",
      "Transformations Gamma 6.8 7 Median <gradio.inputs.Radio object at 0x000001A54D4FA280> 1 1   3x3 1,1,1,1,1,1,1,1,1   3x3 0,-1,0,-1,4,-1,0,-1,0\n",
      "Transformations Gamma 6.8 8 Median <gradio.inputs.Radio object at 0x000001A54D4FA280> 1 1   3x3 1,1,1,1,1,1,1,1,1   3x3 0,-1,0,-1,4,-1,0,-1,0\n",
      "Transformations Gamma 6.8 9 Median <gradio.inputs.Radio object at 0x000001A54D4FA280> 1 1   3x3 1,1,1,1,1,1,1,1,1   3x3 0,-1,0,-1,4,-1,0,-1,0\n",
      "Transformations Gamma 6.8 9 Median <gradio.inputs.Radio object at 0x000001A54D4FA280> 1 1   3x3 1,1,1,1,1,1,1,1,1   3x3 0,-1,0,-1,4,-1,0,-1,0\n",
      "Transformations Gamma 6.8 9 Median <gradio.inputs.Radio object at 0x000001A54D4FA280> 1 1   3x3 1,1,1,1,1,1,1,1,1   3x3 0,-1,0,-1,4,-1,0,-1,0\n",
      "Transformations Gamma 6.8 9 Median <gradio.inputs.Radio object at 0x000001A54D4FA280> 1 1   3x3 1,1,1,1,1,1,1,1,1   3x3 0,-1,0,-1,4,-1,0,-1,0\n",
      "Transformations Gamma 6.8 9 Median <gradio.inputs.Radio object at 0x000001A54D4FA280> 1 1   3x3 1,1,1,1,1,1,1,1,1   3x3 0,-1,0,-1,4,-1,0,-1,0\n",
      "Transformations Gamma 6.8 9 Median <gradio.inputs.Radio object at 0x000001A54D4FA280> 1 1   3x3 1,1,1,1,1,1,1,1,1   3x3 0,-1,0,-1,4,-1,0,-1,0\n",
      "Transformations Gamma 6.8 9 Median <gradio.inputs.Radio object at 0x000001A54D4FA280> 1 1   3x3 1,1,1,1,1,1,1,1,1   3x3 0,-1,0,-1,4,-1,0,-1,0\n",
      "Transformations Gamma 6.8 9 Median <gradio.inputs.Radio object at 0x000001A54D4FA280> 1 1   3x3 1,1,1,1,1,1,1,1,1   3x3 0,-1,0,-1,4,-1,0,-1,0\n",
      "Transformations Gamma 6.8 9 Median <gradio.inputs.Radio object at 0x000001A54D4FA280> 1 1   3x3 1,1,1,1,1,1,1,1,1   3x3 0,-1,0,-1,4,-1,0,-1,0\n",
      "Transformations Gamma 6.8 9 Median <gradio.inputs.Radio object at 0x000001A54D4FA280> 1 1   3x3 1,1,1,1,1,1,1,1,1   3x3 0,-1,0,-1,4,-1,0,-1,0\n",
      "Transformations Gamma 6.8 9 Median <gradio.inputs.Radio object at 0x000001A54D4FA280> 1 1   3x3 1,1,1,1,1,1,1,1,1   3x3 0,-1,0,-1,4,-1,0,-1,0\n",
      "Transformations Gamma 6.8 9 Median <gradio.inputs.Radio object at 0x000001A54D4FA280> 1 1   3x3 1,1,1,1,1,1,1,1,1   3x3 0,-1,0,-1,4,-1,0,-1,0\n",
      "Transformations Gamma 6.8 9 Median <gradio.inputs.Radio object at 0x000001A54D4FA280> 1 1   3x3 1,1,1,1,1,1,1,1,1   3x3 0,-1,0,-1,4,-1,0,-1,0\n",
      "Transformations Gamma 6.8 9 Median <gradio.inputs.Radio object at 0x000001A54D4FA280> 1 1   3x3 1,1,1,1,1,1,1,1,1   3x3 0,-1,0,-1,4,-1,0,-1,0\n",
      "Transformations Gamma 6.8 9 Median <gradio.inputs.Radio object at 0x000001A54D4FA280> 1 1   3x3 1,1,1,1,1,1,1,1,1   3x3 0,-1,0,-1,4,-1,0,-1,0\n",
      "Transformations Gamma 6.8 9 Median <gradio.inputs.Radio object at 0x000001A54D4FA280> 1 1   3x3 1,1,1,1,1,1,1,1,1   3x3 0,-1,0,-1,4,-1,0,-1,0\n",
      "Transformations Gamma 6.8 9 Median <gradio.inputs.Radio object at 0x000001A54D4FA280> 1 1   3x3 1,1,1,1,1,1,1,1,1   3x3 0,-1,0,-1,4,-1,0,-1,0\n",
      "Transformations Gamma 6.8 9 Median <gradio.inputs.Radio object at 0x000001A54D4FA280> 1 1   3x3 1,1,1,1,1,1,1,1,1   3x3 0,-1,0,-1,4,-1,0,-1,0\n",
      "Transformations Gamma 6.8 9 Median <gradio.inputs.Radio object at 0x000001A54D4FA280> 1 1   3x3 1,1,1,1,1,1,1,1,1   3x3 0,-1,0,-1,4,-1,0,-1,0\n",
      "Transformations Gamma 6.8 9 Median <gradio.inputs.Radio object at 0x000001A54D4FA280> 1 1   3x3 1,1,1,1,1,1,1,1,1   3x3 0,-1,0,-1,4,-1,0,-1,0\n",
      "Transformations Gamma 6.8 9 Median <gradio.inputs.Radio object at 0x000001A54D4FA280> 1 1   3x3 1,1,1,1,1,1,1,1,1   3x3 0,-1,0,-1,4,-1,0,-1,0\n",
      "Transformations Gamma 6.8 9 Median <gradio.inputs.Radio object at 0x000001A54D4FA280> 1 1   3x3 1,1,1,1,1,1,1,1,1   3x3 0,-1,0,-1,4,-1,0,-1,0\n"
     ]
    },
    {
     "name": "stdout",
     "output_type": "stream",
     "text": [
      "Transformations Gamma 6.8 9 Median <gradio.inputs.Radio object at 0x000001A54D4FA280> 1 1   3x3 1,1,1,1,1,1,1,1,1   3x3 0,-1,0,-1,4,-1,0,-1,0\n",
      "Transformations Gamma 6.8 10 Median <gradio.inputs.Radio object at 0x000001A54D4FA280> 1 1   3x3 1,1,1,1,1,1,1,1,1   3x3 0,-1,0,-1,4,-1,0,-1,0\n",
      "Transformations Gamma 6.8 11 Median <gradio.inputs.Radio object at 0x000001A54D4FA280> 1 1   3x3 1,1,1,1,1,1,1,1,1   3x3 0,-1,0,-1,4,-1,0,-1,0\n",
      "Transformations Gamma 6.8 11 Median <gradio.inputs.Radio object at 0x000001A54D4FA280> 1 1   3x3 1,1,1,1,1,1,1,1,1   3x3 0,-1,0,-1,4,-1,0,-1,0\n",
      "Transformations Gamma 6.8 12 Median <gradio.inputs.Radio object at 0x000001A54D4FA280> 1 1   3x3 1,1,1,1,1,1,1,1,1   3x3 0,-1,0,-1,4,-1,0,-1,0\n",
      "Transformations Gamma 6.8 12 Median <gradio.inputs.Radio object at 0x000001A54D4FA280> 1 1   3x3 1,1,1,1,1,1,1,1,1   3x3 0,-1,0,-1,4,-1,0,-1,0\n",
      "Transformations Gamma 6.8 12 Median <gradio.inputs.Radio object at 0x000001A54D4FA280> 1 1   3x3 1,1,1,1,1,1,1,1,1   3x3 0,-1,0,-1,4,-1,0,-1,0\n",
      "Transformations Gamma 6.8 12 Median <gradio.inputs.Radio object at 0x000001A54D4FA280> 1 1   3x3 1,1,1,1,1,1,1,1,1   3x3 0,-1,0,-1,4,-1,0,-1,0\n",
      "Transformations Gamma 6.8 12 Median <gradio.inputs.Radio object at 0x000001A54D4FA280> 1 1   3x3 1,1,1,1,1,1,1,1,1   3x3 0,-1,0,-1,4,-1,0,-1,0\n",
      "Transformations Gamma 6.8 12 Median <gradio.inputs.Radio object at 0x000001A54D4FA280> 1 1   3x3 1,1,1,1,1,1,1,1,1   3x3 0,-1,0,-1,4,-1,0,-1,0\n",
      "Transformations Gamma 6.8 12 Median <gradio.inputs.Radio object at 0x000001A54D4FA280> 1 1   3x3 1,1,1,1,1,1,1,1,1   3x3 0,-1,0,-1,4,-1,0,-1,0\n",
      "Transformations Gamma 6.8 12 Median <gradio.inputs.Radio object at 0x000001A54D4FA280> 1 1   3x3 1,1,1,1,1,1,1,1,1   3x3 0,-1,0,-1,4,-1,0,-1,0\n",
      "Transformations Gamma 6.8 12 Median <gradio.inputs.Radio object at 0x000001A54D4FA280> 1 1   3x3 1,1,1,1,1,1,1,1,1   3x3 0,-1,0,-1,4,-1,0,-1,0\n",
      "Transformations Gamma 6.8 12 Median <gradio.inputs.Radio object at 0x000001A54D4FA280> 1 1   3x3 1,1,1,1,1,1,1,1,1   3x3 0,-1,0,-1,4,-1,0,-1,0\n",
      "Transformations Gamma 6.8 12 Median <gradio.inputs.Radio object at 0x000001A54D4FA280> 1 1   3x3 1,1,1,1,1,1,1,1,1   3x3 0,-1,0,-1,4,-1,0,-1,0\n",
      "Transformations Gamma 6.8 12 Median <gradio.inputs.Radio object at 0x000001A54D4FA280> 1 1   3x3 1,1,1,1,1,1,1,1,1   3x3 0,-1,0,-1,4,-1,0,-1,0\n",
      "Transformations Gamma 6.8 12 Median <gradio.inputs.Radio object at 0x000001A54D4FA280> 1 1   3x3 1,1,1,1,1,1,1,1,1   3x3 0,-1,0,-1,4,-1,0,-1,0\n",
      "Transformations Gamma 6.8 12 Median <gradio.inputs.Radio object at 0x000001A54D4FA280> 1 1   3x3 1,1,1,1,1,1,1,1,1   3x3 0,-1,0,-1,4,-1,0,-1,0\n",
      "Transformations Gamma 6.8 12 Median <gradio.inputs.Radio object at 0x000001A54D4FA280> 1 1   3x3 1,1,1,1,1,1,1,1,1   3x3 0,-1,0,-1,4,-1,0,-1,0\n",
      "Transformations Gamma 6.8 12 Median <gradio.inputs.Radio object at 0x000001A54D4FA280> 1 1   3x3 1,1,1,1,1,1,1,1,1   3x3 0,-1,0,-1,4,-1,0,-1,0\n",
      "Transformations Gamma 6.8 12 Median <gradio.inputs.Radio object at 0x000001A54D4FA280> 1 1   3x3 1,1,1,1,1,1,1,1,1   3x3 0,-1,0,-1,4,-1,0,-1,0\n",
      "Transformations Gamma 6.8 12 Median <gradio.inputs.Radio object at 0x000001A54D4FA280> 1 1   3x3 1,1,1,1,1,1,1,1,1   3x3 0,-1,0,-1,4,-1,0,-1,0\n",
      "Transformations Gamma 6.8 12 Median <gradio.inputs.Radio object at 0x000001A54D4FA280> 1 1   3x3 1,1,1,1,1,1,1,1,1   3x3 0,-1,0,-1,4,-1,0,-1,0\n",
      "Transformations Gamma 6.8 13 Median <gradio.inputs.Radio object at 0x000001A54D4FA280> 1 1   3x3 1,1,1,1,1,1,1,1,1   3x3 0,-1,0,-1,4,-1,0,-1,0\n",
      "Transformations Gamma 6.8 13 Median <gradio.inputs.Radio object at 0x000001A54D4FA280> 1 1   3x3 1,1,1,1,1,1,1,1,1   3x3 0,-1,0,-1,4,-1,0,-1,0\n",
      "Transformations Gamma 6.8 14 Median <gradio.inputs.Radio object at 0x000001A54D4FA280> 1 1   3x3 1,1,1,1,1,1,1,1,1   3x3 0,-1,0,-1,4,-1,0,-1,0\n",
      "Transformations Gamma 6.8 14 Median <gradio.inputs.Radio object at 0x000001A54D4FA280> 1 1   3x3 1,1,1,1,1,1,1,1,1   3x3 0,-1,0,-1,4,-1,0,-1,0\n",
      "Transformations Gamma 6.8 14 Median <gradio.inputs.Radio object at 0x000001A54D4FA280> 1 1   3x3 1,1,1,1,1,1,1,1,1   3x3 0,-1,0,-1,4,-1,0,-1,0\n",
      "Transformations Gamma 6.8 14 Median <gradio.inputs.Radio object at 0x000001A54D4FA280> 1 1   3x3 1,1,1,1,1,1,1,1,1   3x3 0,-1,0,-1,4,-1,0,-1,0\n",
      "Transformations Gamma 6.8 14 Median <gradio.inputs.Radio object at 0x000001A54D4FA280> 1 1   3x3 1,1,1,1,1,1,1,1,1   3x3 0,-1,0,-1,4,-1,0,-1,0\n",
      "Transformations Gamma 6.8 14 Median <gradio.inputs.Radio object at 0x000001A54D4FA280> 1 1   3x3 1,1,1,1,1,1,1,1,1   3x3 0,-1,0,-1,4,-1,0,-1,0\n",
      "Transformations Gamma 6.8 14 Median <gradio.inputs.Radio object at 0x000001A54D4FA280> 1 1   3x3 1,1,1,1,1,1,1,1,1   3x3 0,-1,0,-1,4,-1,0,-1,0\n",
      "Transformations Gamma 6.8 14 Median <gradio.inputs.Radio object at 0x000001A54D4FA280> 1 1   3x3 1,1,1,1,1,1,1,1,1   3x3 0,-1,0,-1,4,-1,0,-1,0\n",
      "Transformations Gamma 6.8 14 Median <gradio.inputs.Radio object at 0x000001A54D4FA280> 1 1   3x3 1,1,1,1,1,1,1,1,1   3x3 0,-1,0,-1,4,-1,0,-1,0\n",
      "Transformations Gamma 6.8 14 Median <gradio.inputs.Radio object at 0x000001A54D4FA280> 1 1   3x3 1,1,1,1,1,1,1,1,1   3x3 0,-1,0,-1,4,-1,0,-1,0\n",
      "Transformations Gamma 6.8 14 Median <gradio.inputs.Radio object at 0x000001A54D4FA280> 1 1   3x3 1,1,1,1,1,1,1,1,1   3x3 0,-1,0,-1,4,-1,0,-1,0\n",
      "Transformations Gamma 6.8 14 Median <gradio.inputs.Radio object at 0x000001A54D4FA280> 1 1   3x3 1,1,1,1,1,1,1,1,1   3x3 0,-1,0,-1,4,-1,0,-1,0\n",
      "Transformations Gamma 6.8 14 Median <gradio.inputs.Radio object at 0x000001A54D4FA280> 1 1   3x3 1,1,1,1,1,1,1,1,1   3x3 0,-1,0,-1,4,-1,0,-1,0\n",
      "Transformations Gamma 6.8 14 Median <gradio.inputs.Radio object at 0x000001A54D4FA280> 1 1   3x3 1,1,1,1,1,1,1,1,1   3x3 0,-1,0,-1,4,-1,0,-1,0\n",
      "Transformations Gamma 6.8 14 Median <gradio.inputs.Radio object at 0x000001A54D4FA280> 1 1   3x3 1,1,1,1,1,1,1,1,1   3x3 0,-1,0,-1,4,-1,0,-1,0\n",
      "Transformations Gamma 6.8 14 Median <gradio.inputs.Radio object at 0x000001A54D4FA280> 1 1   3x3 1,1,1,1,1,1,1,1,1   3x3 0,-1,0,-1,4,-1,0,-1,0\n",
      "Transformations Gamma 6.8 14 Median <gradio.inputs.Radio object at 0x000001A54D4FA280> 1 1   3x3 1,1,1,1,1,1,1,1,1   3x3 0,-1,0,-1,4,-1,0,-1,0\n",
      "Transformations Gamma 6.8 14 Median <gradio.inputs.Radio object at 0x000001A54D4FA280> 1 1   3x3 1,1,1,1,1,1,1,1,1   3x3 0,-1,0,-1,4,-1,0,-1,0\n",
      "Transformations Gamma 6.8 14 Median <gradio.inputs.Radio object at 0x000001A54D4FA280> 1 1   3x3 1,1,1,1,1,1,1,1,1   3x3 0,-1,0,-1,4,-1,0,-1,0\n",
      "Transformations Gamma 6.8 14 Median <gradio.inputs.Radio object at 0x000001A54D4FA280> 1 1   3x3 1,1,1,1,1,1,1,1,1   3x3 0,-1,0,-1,4,-1,0,-1,0\n",
      "Transformations Gamma 6.8 14 Median <gradio.inputs.Radio object at 0x000001A54D4FA280> 1 1   3x3 1,1,1,1,1,1,1,1,1   3x3 0,-1,0,-1,4,-1,0,-1,0\n",
      "Transformations Gamma 6.8 14 Median <gradio.inputs.Radio object at 0x000001A54D4FA280> 1 1   3x3 1,1,1,1,1,1,1,1,1   3x3 0,-1,0,-1,4,-1,0,-1,0\n",
      "Transformations Gamma 6.8 14 Median <gradio.inputs.Radio object at 0x000001A54D4FA280> 1 1   3x3 1,1,1,1,1,1,1,1,1   3x3 0,-1,0,-1,4,-1,0,-1,0\n",
      "Transformations Gamma 6.8 14 Median <gradio.inputs.Radio object at 0x000001A54D4FA280> 1 1   3x3 1,1,1,1,1,1,1,1,1   3x3 0,-1,0,-1,4,-1,0,-1,0\n",
      "Transformations Gamma 6.8 14 Median <gradio.inputs.Radio object at 0x000001A54D4FA280> 1 1   3x3 1,1,1,1,1,1,1,1,1   3x3 0,-1,0,-1,4,-1,0,-1,0\n",
      "Transformations Gamma 6.8 14 Median <gradio.inputs.Radio object at 0x000001A54D4FA280> 1 1   3x3 1,1,1,1,1,1,1,1,1   3x3 0,-1,0,-1,4,-1,0,-1,0\n",
      "Transformations Gamma 6.8 14 Median <gradio.inputs.Radio object at 0x000001A54D4FA280> 1 1   3x3 1,1,1,1,1,1,1,1,1   3x3 0,-1,0,-1,4,-1,0,-1,0\n",
      "Transformations Gamma 6.8 14 Median <gradio.inputs.Radio object at 0x000001A54D4FA280> 1 1   3x3 1,1,1,1,1,1,1,1,1   3x3 0,-1,0,-1,4,-1,0,-1,0\n",
      "Transformations Gamma 6.8 14 Median <gradio.inputs.Radio object at 0x000001A54D4FA280> 1 1   3x3 1,1,1,1,1,1,1,1,1   3x3 0,-1,0,-1,4,-1,0,-1,0\n",
      "Transformations Gamma 6.8 14 Median <gradio.inputs.Radio object at 0x000001A54D4FA280> 1 1   3x3 1,1,1,1,1,1,1,1,1   3x3 0,-1,0,-1,4,-1,0,-1,0\n",
      "Transformations Gamma 6.8 14 Median <gradio.inputs.Radio object at 0x000001A54D4FA280> 1 1   3x3 1,1,1,1,1,1,1,1,1   3x3 0,-1,0,-1,4,-1,0,-1,0\n",
      "Transformations Gamma 6.8 14 Median <gradio.inputs.Radio object at 0x000001A54D4FA280> 1 1   3x3 1,1,1,1,1,1,1,1,1   3x3 0,-1,0,-1,4,-1,0,-1,0\n",
      "Transformations Gamma 6.8 14 Median <gradio.inputs.Radio object at 0x000001A54D4FA280> 1 1   3x3 1,1,1,1,1,1,1,1,1   3x3 0,-1,0,-1,4,-1,0,-1,0\n"
     ]
    },
    {
     "name": "stdout",
     "output_type": "stream",
     "text": [
      "Transformations Gamma 6.8 14 Median <gradio.inputs.Radio object at 0x000001A54D4FA280> 1 1   3x3 1,1,1,1,1,1,1,1,1   3x3 0,-1,0,-1,4,-1,0,-1,0\n",
      "Transformations Gamma 6.8 14 Median <gradio.inputs.Radio object at 0x000001A54D4FA280> 1 1   3x3 1,1,1,1,1,1,1,1,1   3x3 0,-1,0,-1,4,-1,0,-1,0\n",
      "Transformations Gamma 6.8 14 Median <gradio.inputs.Radio object at 0x000001A54D4FA280> 1 1   3x3 1,1,1,1,1,1,1,1,1   3x3 0,-1,0,-1,4,-1,0,-1,0\n",
      "Transformations Gamma 6.8 14 Median <gradio.inputs.Radio object at 0x000001A54D4FA280> 1 1   3x3 1,1,1,1,1,1,1,1,1   3x3 0,-1,0,-1,4,-1,0,-1,0\n",
      "Transformations Gamma 6.8 14 Median <gradio.inputs.Radio object at 0x000001A54D4FA280> 1 1   3x3 1,1,1,1,1,1,1,1,1   3x3 0,-1,0,-1,4,-1,0,-1,0\n",
      "Transformations Gamma 6.8 15 Median <gradio.inputs.Radio object at 0x000001A54D4FA280> 1 1   3x3 1,1,1,1,1,1,1,1,1   3x3 0,-1,0,-1,4,-1,0,-1,0\n",
      "Transformations Gamma 6.8 17 Median <gradio.inputs.Radio object at 0x000001A54D4FA280> 1 1   3x3 1,1,1,1,1,1,1,1,1   3x3 0,-1,0,-1,4,-1,0,-1,0\n",
      "Transformations Gamma 6.8 17 Median <gradio.inputs.Radio object at 0x000001A54D4FA280> 1 1   3x3 1,1,1,1,1,1,1,1,1   3x3 0,-1,0,-1,4,-1,0,-1,0\n",
      "Transformations Gamma 6.8 17 Median <gradio.inputs.Radio object at 0x000001A54D4FA280> 1 1   3x3 1,1,1,1,1,1,1,1,1   3x3 0,-1,0,-1,4,-1,0,-1,0\n",
      "Transformations Gamma 6.8 17 Median <gradio.inputs.Radio object at 0x000001A54D4FA280> 1 1   3x3 1,1,1,1,1,1,1,1,1   3x3 0,-1,0,-1,4,-1,0,-1,0\n",
      "Transformations Gamma 6.8 17 Median <gradio.inputs.Radio object at 0x000001A54D4FA280> 1 1   3x3 1,1,1,1,1,1,1,1,1   3x3 0,-1,0,-1,4,-1,0,-1,0\n",
      "Transformations Gamma 6.8 17 Median <gradio.inputs.Radio object at 0x000001A54D4FA280> 1 1   3x3 1,1,1,1,1,1,1,1,1   3x3 0,-1,0,-1,4,-1,0,-1,0\n",
      "Transformations Gamma 6.8 17 Median <gradio.inputs.Radio object at 0x000001A54D4FA280> 1 1   3x3 1,1,1,1,1,1,1,1,1   3x3 0,-1,0,-1,4,-1,0,-1,0\n",
      "Transformations Gamma 6.8 17 Median <gradio.inputs.Radio object at 0x000001A54D4FA280> 1 1   3x3 1,1,1,1,1,1,1,1,1   3x3 0,-1,0,-1,4,-1,0,-1,0\n",
      "Transformations Gamma 6.8 17 Median <gradio.inputs.Radio object at 0x000001A54D4FA280> 1 1   3x3 1,1,1,1,1,1,1,1,1   3x3 0,-1,0,-1,4,-1,0,-1,0\n",
      "Transformations Gamma 6.8 17 Median <gradio.inputs.Radio object at 0x000001A54D4FA280> 1 1   3x3 1,1,1,1,1,1,1,1,1   3x3 0,-1,0,-1,4,-1,0,-1,0\n",
      "Transformations Gamma 6.8 17 Median <gradio.inputs.Radio object at 0x000001A54D4FA280> 1 1   3x3 1,1,1,1,1,1,1,1,1   3x3 0,-1,0,-1,4,-1,0,-1,0\n",
      "Transformations Gamma 6.8 17 Median <gradio.inputs.Radio object at 0x000001A54D4FA280> 1 1   3x3 1,1,1,1,1,1,1,1,1   3x3 0,-1,0,-1,4,-1,0,-1,0\n",
      "Transformations Gamma 6.8 17 Median <gradio.inputs.Radio object at 0x000001A54D4FA280> 1 1   3x3 1,1,1,1,1,1,1,1,1   3x3 0,-1,0,-1,4,-1,0,-1,0\n",
      "Transformations Gamma 6.8 17 Median <gradio.inputs.Radio object at 0x000001A54D4FA280> 1 1   3x3 1,1,1,1,1,1,1,1,1   3x3 0,-1,0,-1,4,-1,0,-1,0\n",
      "Transformations Gamma 6.8 17 Median <gradio.inputs.Radio object at 0x000001A54D4FA280> 1 1   3x3 1,1,1,1,1,1,1,1,1   3x3 0,-1,0,-1,4,-1,0,-1,0\n",
      "Transformations Gamma 6.8 15 Median <gradio.inputs.Radio object at 0x000001A54D4FA280> 1 1   3x3 1,1,1,1,1,1,1,1,1   3x3 0,-1,0,-1,4,-1,0,-1,0\n",
      "Transformations Gamma 6.8 14 Median <gradio.inputs.Radio object at 0x000001A54D4FA280> 1 1   3x3 1,1,1,1,1,1,1,1,1   3x3 0,-1,0,-1,4,-1,0,-1,0\n",
      "Transformations Gamma 6.8 13 Median <gradio.inputs.Radio object at 0x000001A54D4FA280> 1 1   3x3 1,1,1,1,1,1,1,1,1   3x3 0,-1,0,-1,4,-1,0,-1,0\n",
      "Transformations Gamma 6.8 12 Median <gradio.inputs.Radio object at 0x000001A54D4FA280> 1 1   3x3 1,1,1,1,1,1,1,1,1   3x3 0,-1,0,-1,4,-1,0,-1,0\n",
      "Transformations Gamma 6.8 12 Median <gradio.inputs.Radio object at 0x000001A54D4FA280> 1 1   3x3 1,1,1,1,1,1,1,1,1   3x3 0,-1,0,-1,4,-1,0,-1,0\n",
      "Transformations Gamma 6.8 11 Median <gradio.inputs.Radio object at 0x000001A54D4FA280> 1 1   3x3 1,1,1,1,1,1,1,1,1   3x3 0,-1,0,-1,4,-1,0,-1,0\n",
      "Transformations Gamma 6.8 11 Median <gradio.inputs.Radio object at 0x000001A54D4FA280> 1 1   3x3 1,1,1,1,1,1,1,1,1   3x3 0,-1,0,-1,4,-1,0,-1,0\n",
      "Transformations Gamma 6.8 10 Median <gradio.inputs.Radio object at 0x000001A54D4FA280> 1 1   3x3 1,1,1,1,1,1,1,1,1   3x3 0,-1,0,-1,4,-1,0,-1,0\n",
      "Transformations Gamma 6.8 9 Median <gradio.inputs.Radio object at 0x000001A54D4FA280> 1 1   3x3 1,1,1,1,1,1,1,1,1   3x3 0,-1,0,-1,4,-1,0,-1,0\n",
      "Transformations Gamma 6.8 9 Median <gradio.inputs.Radio object at 0x000001A54D4FA280> 1 1   3x3 1,1,1,1,1,1,1,1,1   3x3 0,-1,0,-1,4,-1,0,-1,0\n",
      "Transformations Gamma 6.8 8 Median <gradio.inputs.Radio object at 0x000001A54D4FA280> 1 1   3x3 1,1,1,1,1,1,1,1,1   3x3 0,-1,0,-1,4,-1,0,-1,0\n",
      "Transformations Gamma 6.8 8 Median <gradio.inputs.Radio object at 0x000001A54D4FA280> 1 1   3x3 1,1,1,1,1,1,1,1,1   3x3 0,-1,0,-1,4,-1,0,-1,0\n",
      "Transformations Gamma 6.8 8 Median <gradio.inputs.Radio object at 0x000001A54D4FA280> 1 1   3x3 1,1,1,1,1,1,1,1,1   3x3 0,-1,0,-1,4,-1,0,-1,0\n",
      "Transformations Gamma 6.8 7 Median <gradio.inputs.Radio object at 0x000001A54D4FA280> 1 1   3x3 1,1,1,1,1,1,1,1,1   3x3 0,-1,0,-1,4,-1,0,-1,0\n",
      "Transformations Gamma 6.8 7 Median <gradio.inputs.Radio object at 0x000001A54D4FA280> 1 1   3x3 1,1,1,1,1,1,1,1,1   3x3 0,-1,0,-1,4,-1,0,-1,0\n",
      "Transformations Gamma 6.8 7 Median <gradio.inputs.Radio object at 0x000001A54D4FA280> 1 1   3x3 1,1,1,1,1,1,1,1,1   3x3 0,-1,0,-1,4,-1,0,-1,0\n",
      "Transformations Gamma 6.8 6 Median <gradio.inputs.Radio object at 0x000001A54D4FA280> 1 1   3x3 1,1,1,1,1,1,1,1,1   3x3 0,-1,0,-1,4,-1,0,-1,0\n",
      "Transformations Gamma 6.8 5 Median <gradio.inputs.Radio object at 0x000001A54D4FA280> 1 1   3x3 1,1,1,1,1,1,1,1,1   3x3 0,-1,0,-1,4,-1,0,-1,0\n",
      "Transformations Gamma 6.8 5 Median <gradio.inputs.Radio object at 0x000001A54D4FA280> 1 1   3x3 1,1,1,1,1,1,1,1,1   3x3 0,-1,0,-1,4,-1,0,-1,0\n",
      "Transformations Gamma 6.8 5 Median <gradio.inputs.Radio object at 0x000001A54D4FA280> 1 1   3x3 1,1,1,1,1,1,1,1,1   3x3 0,-1,0,-1,4,-1,0,-1,0\n",
      "Transformations Gamma 6.8 5 Median <gradio.inputs.Radio object at 0x000001A54D4FA280> 1 1   3x3 1,1,1,1,1,1,1,1,1   3x3 0,-1,0,-1,4,-1,0,-1,0\n",
      "Transformations Gamma 6.8 4 Median <gradio.inputs.Radio object at 0x000001A54D4FA280> 1 1   3x3 1,1,1,1,1,1,1,1,1   3x3 0,-1,0,-1,4,-1,0,-1,0\n",
      "Transformations Gamma 6.8 3 Median <gradio.inputs.Radio object at 0x000001A54D4FA280> 1 1   3x3 1,1,1,1,1,1,1,1,1   3x3 0,-1,0,-1,4,-1,0,-1,0\n",
      "Transformations Gamma 6.8 3 Median <gradio.inputs.Radio object at 0x000001A54D4FA280> 1 1   3x3 1,1,1,1,1,1,1,1,1   3x3 0,-1,0,-1,4,-1,0,-1,0\n",
      "Transformations Gamma 6.8 3 Median <gradio.inputs.Radio object at 0x000001A54D4FA280> 1 1   3x3 1,1,1,1,1,1,1,1,1   3x3 0,-1,0,-1,4,-1,0,-1,0\n",
      "Transformations Gamma 6.8 2 Median <gradio.inputs.Radio object at 0x000001A54D4FA280> 1 1   3x3 1,1,1,1,1,1,1,1,1   3x3 0,-1,0,-1,4,-1,0,-1,0\n",
      "Transformations Gamma 6.8 2 Median <gradio.inputs.Radio object at 0x000001A54D4FA280> 1 1   3x3 1,1,1,1,1,1,1,1,1   3x3 0,-1,0,-1,4,-1,0,-1,0\n",
      "Transformations Gamma 6.8 2 Median <gradio.inputs.Radio object at 0x000001A54D4FA280> 1 1   3x3 1,1,1,1,1,1,1,1,1   3x3 0,-1,0,-1,4,-1,0,-1,0\n",
      "Transformations Gamma 6.8 3 Median <gradio.inputs.Radio object at 0x000001A54D4FA280> 1 1   3x3 1,1,1,1,1,1,1,1,1   3x3 0,-1,0,-1,4,-1,0,-1,0\n",
      "Transformations Gamma 6.8 4 Median <gradio.inputs.Radio object at 0x000001A54D4FA280> 1 1   3x3 1,1,1,1,1,1,1,1,1   3x3 0,-1,0,-1,4,-1,0,-1,0\n",
      "Transformations Gamma 6.8 5 Median <gradio.inputs.Radio object at 0x000001A54D4FA280> 1 1   3x3 1,1,1,1,1,1,1,1,1   3x3 0,-1,0,-1,4,-1,0,-1,0\n",
      "Transformations Gamma 6.8 6 Median <gradio.inputs.Radio object at 0x000001A54D4FA280> 1 1   3x3 1,1,1,1,1,1,1,1,1   3x3 0,-1,0,-1,4,-1,0,-1,0\n",
      "Transformations Gamma 6.8 7 Median <gradio.inputs.Radio object at 0x000001A54D4FA280> 1 1   3x3 1,1,1,1,1,1,1,1,1   3x3 0,-1,0,-1,4,-1,0,-1,0\n",
      "Transformations Gamma 6.8 7 Median <gradio.inputs.Radio object at 0x000001A54D4FA280> 1 1   3x3 1,1,1,1,1,1,1,1,1   3x3 0,-1,0,-1,4,-1,0,-1,0\n",
      "Transformations Gamma 6.8 8 Median <gradio.inputs.Radio object at 0x000001A54D4FA280> 1 1   3x3 1,1,1,1,1,1,1,1,1   3x3 0,-1,0,-1,4,-1,0,-1,0\n",
      "Transformations Gamma 6.8 9 Median <gradio.inputs.Radio object at 0x000001A54D4FA280> 1 1   3x3 1,1,1,1,1,1,1,1,1   3x3 0,-1,0,-1,4,-1,0,-1,0\n",
      "Transformations Gamma 6.8 10 Median <gradio.inputs.Radio object at 0x000001A54D4FA280> 1 1   3x3 1,1,1,1,1,1,1,1,1   3x3 0,-1,0,-1,4,-1,0,-1,0\n",
      "Transformations Gamma 6.8 11 Median <gradio.inputs.Radio object at 0x000001A54D4FA280> 1 1   3x3 1,1,1,1,1,1,1,1,1   3x3 0,-1,0,-1,4,-1,0,-1,0\n",
      "Transformations Gamma 6.8 11 Median <gradio.inputs.Radio object at 0x000001A54D4FA280> 1 1   3x3 1,1,1,1,1,1,1,1,1   3x3 0,-1,0,-1,4,-1,0,-1,0\n",
      "Transformations Gamma 6.8 11 Median <gradio.inputs.Radio object at 0x000001A54D4FA280> 1 1   3x3 1,1,1,1,1,1,1,1,1   3x3 0,-1,0,-1,4,-1,0,-1,0\n",
      "Transformations Gamma 6.8 12 Median <gradio.inputs.Radio object at 0x000001A54D4FA280> 1 1   3x3 1,1,1,1,1,1,1,1,1   3x3 0,-1,0,-1,4,-1,0,-1,0\n"
     ]
    },
    {
     "name": "stdout",
     "output_type": "stream",
     "text": [
      "Transformations Gamma 6.8 13 Median <gradio.inputs.Radio object at 0x000001A54D4FA280> 1 1   3x3 1,1,1,1,1,1,1,1,1   3x3 0,-1,0,-1,4,-1,0,-1,0\n",
      "Transformations Gamma 6.8 13 Median <gradio.inputs.Radio object at 0x000001A54D4FA280> 1 1   3x3 1,1,1,1,1,1,1,1,1   3x3 0,-1,0,-1,4,-1,0,-1,0\n",
      "Transformations Gamma 6.8 14 Median <gradio.inputs.Radio object at 0x000001A54D4FA280> 1 1   3x3 1,1,1,1,1,1,1,1,1   3x3 0,-1,0,-1,4,-1,0,-1,0\n",
      "Transformations Gamma 6.8 15 Median <gradio.inputs.Radio object at 0x000001A54D4FA280> 1 1   3x3 1,1,1,1,1,1,1,1,1   3x3 0,-1,0,-1,4,-1,0,-1,0\n",
      "Transformations Gamma 6.8 16 Median <gradio.inputs.Radio object at 0x000001A54D4FA280> 1 1   3x3 1,1,1,1,1,1,1,1,1   3x3 0,-1,0,-1,4,-1,0,-1,0\n",
      "Transformations Gamma 6.8 17 Median <gradio.inputs.Radio object at 0x000001A54D4FA280> 1 1   3x3 1,1,1,1,1,1,1,1,1   3x3 0,-1,0,-1,4,-1,0,-1,0\n",
      "Transformations Gamma 6.8 18 Median <gradio.inputs.Radio object at 0x000001A54D4FA280> 1 1   3x3 1,1,1,1,1,1,1,1,1   3x3 0,-1,0,-1,4,-1,0,-1,0\n",
      "Transformations Gamma 6.8 19 Median <gradio.inputs.Radio object at 0x000001A54D4FA280> 1 1   3x3 1,1,1,1,1,1,1,1,1   3x3 0,-1,0,-1,4,-1,0,-1,0\n",
      "Transformations Gamma 6.8 19 Median <gradio.inputs.Radio object at 0x000001A54D4FA280> 1 1   3x3 1,1,1,1,1,1,1,1,1   3x3 0,-1,0,-1,4,-1,0,-1,0\n",
      "Transformations Gamma 6.8 21 Median <gradio.inputs.Radio object at 0x000001A54D4FA280> 1 1   3x3 1,1,1,1,1,1,1,1,1   3x3 0,-1,0,-1,4,-1,0,-1,0\n",
      "Transformations Gamma 6.8 21 Median <gradio.inputs.Radio object at 0x000001A54D4FA280> 1 1   3x3 1,1,1,1,1,1,1,1,1   3x3 0,-1,0,-1,4,-1,0,-1,0\n",
      "Transformations Gamma 6.8 22 Median <gradio.inputs.Radio object at 0x000001A54D4FA280> 1 1   3x3 1,1,1,1,1,1,1,1,1   3x3 0,-1,0,-1,4,-1,0,-1,0\n",
      "Transformations Gamma 6.8 22 Median <gradio.inputs.Radio object at 0x000001A54D4FA280> 1 1   3x3 1,1,1,1,1,1,1,1,1   3x3 0,-1,0,-1,4,-1,0,-1,0\n",
      "Transformations Gamma 6.8 24 Median <gradio.inputs.Radio object at 0x000001A54D4FA280> 1 1   3x3 1,1,1,1,1,1,1,1,1   3x3 0,-1,0,-1,4,-1,0,-1,0\n",
      "Transformations Gamma 6.8 26 Median <gradio.inputs.Radio object at 0x000001A54D4FA280> 1 1   3x3 1,1,1,1,1,1,1,1,1   3x3 0,-1,0,-1,4,-1,0,-1,0\n",
      "Transformations Gamma 6.8 31 Median <gradio.inputs.Radio object at 0x000001A54D4FA280> 1 1   3x3 1,1,1,1,1,1,1,1,1   3x3 0,-1,0,-1,4,-1,0,-1,0\n",
      "Transformations Gamma 6.8 32 Median <gradio.inputs.Radio object at 0x000001A54D4FA280> 1 1   3x3 1,1,1,1,1,1,1,1,1   3x3 0,-1,0,-1,4,-1,0,-1,0\n",
      "Transformations Gamma 6.8 34 Median <gradio.inputs.Radio object at 0x000001A54D4FA280> 1 1   3x3 1,1,1,1,1,1,1,1,1   3x3 0,-1,0,-1,4,-1,0,-1,0\n",
      "Transformations Gamma 6.8 35 Median <gradio.inputs.Radio object at 0x000001A54D4FA280> 1 1   3x3 1,1,1,1,1,1,1,1,1   3x3 0,-1,0,-1,4,-1,0,-1,0\n",
      "Transformations Gamma 6.8 35 Median <gradio.inputs.Radio object at 0x000001A54D4FA280> 1 1   3x3 1,1,1,1,1,1,1,1,1   3x3 0,-1,0,-1,4,-1,0,-1,0\n",
      "Transformations Gamma 6.8 36 Median <gradio.inputs.Radio object at 0x000001A54D4FA280> 1 1   3x3 1,1,1,1,1,1,1,1,1   3x3 0,-1,0,-1,4,-1,0,-1,0\n",
      "Transformations Gamma 6.8 36 Median <gradio.inputs.Radio object at 0x000001A54D4FA280> 1 1   3x3 1,1,1,1,1,1,1,1,1   3x3 0,-1,0,-1,4,-1,0,-1,0\n",
      "Transformations Gamma 6.8 36 Median <gradio.inputs.Radio object at 0x000001A54D4FA280> 1 1   3x3 1,1,1,1,1,1,1,1,1   3x3 0,-1,0,-1,4,-1,0,-1,0\n",
      "Transformations Gamma 6.8 36 Median <gradio.inputs.Radio object at 0x000001A54D4FA280> 1 1   3x3 1,1,1,1,1,1,1,1,1   3x3 0,-1,0,-1,4,-1,0,-1,0\n",
      "Transformations Gamma 6.8 36 Median <gradio.inputs.Radio object at 0x000001A54D4FA280> 1 1   3x3 1,1,1,1,1,1,1,1,1   3x3 0,-1,0,-1,4,-1,0,-1,0\n",
      "Transformations Gamma 6.8 35 Median <gradio.inputs.Radio object at 0x000001A54D4FA280> 1 1   3x3 1,1,1,1,1,1,1,1,1   3x3 0,-1,0,-1,4,-1,0,-1,0\n",
      "Transformations Gamma 6.8 34 Median <gradio.inputs.Radio object at 0x000001A54D4FA280> 1 1   3x3 1,1,1,1,1,1,1,1,1   3x3 0,-1,0,-1,4,-1,0,-1,0\n",
      "Transformations Gamma 6.8 27 Median <gradio.inputs.Radio object at 0x000001A54D4FA280> 1 1   3x3 1,1,1,1,1,1,1,1,1   3x3 0,-1,0,-1,4,-1,0,-1,0\n",
      "Transformations Gamma 6.8 23 Median <gradio.inputs.Radio object at 0x000001A54D4FA280> 1 1   3x3 1,1,1,1,1,1,1,1,1   3x3 0,-1,0,-1,4,-1,0,-1,0\n",
      "Transformations Gamma 6.8 21 Median <gradio.inputs.Radio object at 0x000001A54D4FA280> 1 1   3x3 1,1,1,1,1,1,1,1,1   3x3 0,-1,0,-1,4,-1,0,-1,0\n",
      "Transformations Gamma 6.8 15 Median <gradio.inputs.Radio object at 0x000001A54D4FA280> 1 1   3x3 1,1,1,1,1,1,1,1,1   3x3 0,-1,0,-1,4,-1,0,-1,0\n",
      "Transformations Gamma 6.8 11 Median <gradio.inputs.Radio object at 0x000001A54D4FA280> 1 1   3x3 1,1,1,1,1,1,1,1,1   3x3 0,-1,0,-1,4,-1,0,-1,0\n",
      "Transformations Gamma 6.8 9 Median <gradio.inputs.Radio object at 0x000001A54D4FA280> 1 1   3x3 1,1,1,1,1,1,1,1,1   3x3 0,-1,0,-1,4,-1,0,-1,0\n",
      "Transformations Gamma 6.8 7 Median <gradio.inputs.Radio object at 0x000001A54D4FA280> 1 1   3x3 1,1,1,1,1,1,1,1,1   3x3 0,-1,0,-1,4,-1,0,-1,0\n",
      "Transformations Gamma 6.8 5 Median <gradio.inputs.Radio object at 0x000001A54D4FA280> 1 1   3x3 1,1,1,1,1,1,1,1,1   3x3 0,-1,0,-1,4,-1,0,-1,0\n",
      "Transformations Gamma 6.8 4 Median <gradio.inputs.Radio object at 0x000001A54D4FA280> 1 1   3x3 1,1,1,1,1,1,1,1,1   3x3 0,-1,0,-1,4,-1,0,-1,0\n",
      "Transformations Gamma 6.8 4 Median <gradio.inputs.Radio object at 0x000001A54D4FA280> 1 1   3x3 1,1,1,1,1,1,1,1,1   3x3 0,-1,0,-1,4,-1,0,-1,0\n",
      "Transformations Gamma 6.8 4 Median <gradio.inputs.Radio object at 0x000001A54D4FA280> 1 1   3x3 1,1,1,1,1,1,1,1,1   3x3 0,-1,0,-1,4,-1,0,-1,0\n",
      "Transformations Gamma 6.8 4 Median <gradio.inputs.Radio object at 0x000001A54D4FA280> 1 1   3x3 1,1,1,1,1,1,1,1,1   3x3 0,-1,0,-1,4,-1,0,-1,0\n",
      "Transformations Gamma 6.8 4 Median <gradio.inputs.Radio object at 0x000001A54D4FA280> 1 1   3x3 1,1,1,1,1,1,1,1,1   3x3 0,-1,0,-1,4,-1,0,-1,0\n",
      "Transformations Gamma 6.8 4 Median <gradio.inputs.Radio object at 0x000001A54D4FA280> 1 1   3x3 1,1,1,1,1,1,1,1,1   3x3 0,-1,0,-1,4,-1,0,-1,0\n",
      "Transformations Gamma 6.8 4 Median <gradio.inputs.Radio object at 0x000001A54D4FA280> 1 1   3x3 1,1,1,1,1,1,1,1,1   3x3 0,-1,0,-1,4,-1,0,-1,0\n",
      "Transformations Gamma 6.8 5 Median <gradio.inputs.Radio object at 0x000001A54D4FA280> 1 1   3x3 1,1,1,1,1,1,1,1,1   3x3 0,-1,0,-1,4,-1,0,-1,0\n",
      "Transformations Gamma 6.8 7 Median <gradio.inputs.Radio object at 0x000001A54D4FA280> 1 1   3x3 1,1,1,1,1,1,1,1,1   3x3 0,-1,0,-1,4,-1,0,-1,0\n",
      "Transformations Gamma 6.8 8 Median <gradio.inputs.Radio object at 0x000001A54D4FA280> 1 1   3x3 1,1,1,1,1,1,1,1,1   3x3 0,-1,0,-1,4,-1,0,-1,0\n",
      "Transformations Gamma 6.8 9 Median <gradio.inputs.Radio object at 0x000001A54D4FA280> 1 1   3x3 1,1,1,1,1,1,1,1,1   3x3 0,-1,0,-1,4,-1,0,-1,0\n",
      "Transformations Gamma 6.8 9 Median <gradio.inputs.Radio object at 0x000001A54D4FA280> 1 1   3x3 1,1,1,1,1,1,1,1,1   3x3 0,-1,0,-1,4,-1,0,-1,0\n",
      "Transformations Gamma 6.8 9 Median <gradio.inputs.Radio object at 0x000001A54D4FA280> 1 1   3x3 1,1,1,1,1,1,1,1,1   3x3 0,-1,0,-1,4,-1,0,-1,0\n",
      "Transformations Gamma 6.8 9 Median <gradio.inputs.Radio object at 0x000001A54D4FA280> 1 1   3x3 1,1,1,1,1,1,1,1,1   3x3 0,-1,0,-1,4,-1,0,-1,0\n",
      "Transformations Gamma 6.8 9 Median <gradio.inputs.Radio object at 0x000001A54D4FA280> 1 1   3x3 1,1,1,1,1,1,1,1,1   3x3 0,-1,0,-1,4,-1,0,-1,0\n",
      "Transformations Gamma 6.8 9 Median <gradio.inputs.Radio object at 0x000001A54D4FA280> 1 1   3x3 1,1,1,1,1,1,1,1,1   3x3 0,-1,0,-1,4,-1,0,-1,0\n",
      "Transformations Gamma 6.8 9 Median <gradio.inputs.Radio object at 0x000001A54D4FA280> 1 1   3x3 1,1,1,1,1,1,1,1,1   3x3 0,-1,0,-1,4,-1,0,-1,0\n",
      "Transformations Gamma 6.8 9 Median <gradio.inputs.Radio object at 0x000001A54D4FA280> 1 1   3x3 1,1,1,1,1,1,1,1,1   3x3 0,-1,0,-1,4,-1,0,-1,0\n",
      "Transformations Gamma 6.8 9 Median <gradio.inputs.Radio object at 0x000001A54D4FA280> 1 1   3x3 1,1,1,1,1,1,1,1,1   3x3 0,-1,0,-1,4,-1,0,-1,0\n",
      "Transformations Gamma 6.8 9 Median <gradio.inputs.Radio object at 0x000001A54D4FA280> 1 1   3x3 1,1,1,1,1,1,1,1,1   3x3 0,-1,0,-1,4,-1,0,-1,0\n",
      "Transformations Gamma 6.8 9 Median <gradio.inputs.Radio object at 0x000001A54D4FA280> 1 1   3x3 1,1,1,1,1,1,1,1,1   3x3 0,-1,0,-1,4,-1,0,-1,0\n",
      "Transformations Gamma 6.8 9 Median <gradio.inputs.Radio object at 0x000001A54D4FA280> 1 1   3x3 1,1,1,1,1,1,1,1,1   3x3 0,-1,0,-1,4,-1,0,-1,0\n",
      "Transformations Gamma 6.8 9 Median <gradio.inputs.Radio object at 0x000001A54D4FA280> 1 1   3x3 1,1,1,1,1,1,1,1,1   3x3 0,-1,0,-1,4,-1,0,-1,0\n",
      "Transformations Gamma 6.8 9 Median <gradio.inputs.Radio object at 0x000001A54D4FA280> 1 1   3x3 1,1,1,1,1,1,1,1,1   3x3 0,-1,0,-1,4,-1,0,-1,0\n"
     ]
    },
    {
     "name": "stdout",
     "output_type": "stream",
     "text": [
      "Transformations Gamma 6.8 9 Median <gradio.inputs.Radio object at 0x000001A54D4FA280> 1 1   3x3 1,1,1,1,1,1,1,1,1   3x3 0,-1,0,-1,4,-1,0,-1,0\n",
      "Transformations Gamma 6.8 9 Median <gradio.inputs.Radio object at 0x000001A54D4FA280> 1 1   3x3 1,1,1,1,1,1,1,1,1   3x3 0,-1,0,-1,4,-1,0,-1,0\n",
      "Transformations Gamma 6.8 9 Median <gradio.inputs.Radio object at 0x000001A54D4FA280> 1 1   3x3 1,1,1,1,1,1,1,1,1   3x3 0,-1,0,-1,4,-1,0,-1,0\n",
      "Transformations Gamma 6.8 9 Median <gradio.inputs.Radio object at 0x000001A54D4FA280> 1 1   3x3 1,1,1,1,1,1,1,1,1   3x3 0,-1,0,-1,4,-1,0,-1,0\n",
      "Transformations Gamma 6.8 9 Median <gradio.inputs.Radio object at 0x000001A54D4FA280> 1 1   3x3 1,1,1,1,1,1,1,1,1   3x3 0,-1,0,-1,4,-1,0,-1,0\n",
      "Transformations Gamma 6.8 9 Median <gradio.inputs.Radio object at 0x000001A54D4FA280> 1 1   3x3 1,1,1,1,1,1,1,1,1   3x3 0,-1,0,-1,4,-1,0,-1,0\n",
      "Transformations Gamma 6.8 9 Median <gradio.inputs.Radio object at 0x000001A54D4FA280> 1 1   3x3 1,1,1,1,1,1,1,1,1   3x3 0,-1,0,-1,4,-1,0,-1,0\n",
      "Transformations Gamma 6.8 9 Median <gradio.inputs.Radio object at 0x000001A54D4FA280> 1 1   3x3 1,1,1,1,1,1,1,1,1   3x3 0,-1,0,-1,4,-1,0,-1,0\n",
      "Transformations Gamma 6.8 9 Median <gradio.inputs.Radio object at 0x000001A54D4FA280> 1 1   3x3 1,1,1,1,1,1,1,1,1   3x3 0,-1,0,-1,4,-1,0,-1,0\n",
      "Transformations Gamma 6.8 9 Median <gradio.inputs.Radio object at 0x000001A54D4FA280> 1 1   3x3 1,1,1,1,1,1,1,1,1   3x3 0,-1,0,-1,4,-1,0,-1,0\n",
      "Transformations Gamma 6.8 9 Median <gradio.inputs.Radio object at 0x000001A54D4FA280> 1 1   3x3 1,1,1,1,1,1,1,1,1   3x3 0,-1,0,-1,4,-1,0,-1,0\n",
      "Transformations Gamma 6.8 9 Median <gradio.inputs.Radio object at 0x000001A54D4FA280> 1 1   3x3 1,1,1,1,1,1,1,1,1   3x3 0,-1,0,-1,4,-1,0,-1,0\n",
      "Transformations Gamma 7.5 9 Median <gradio.inputs.Radio object at 0x000001A54D4FA280> 1 1   3x3 1,1,1,1,1,1,1,1,1   3x3 0,-1,0,-1,4,-1,0,-1,0\n",
      "Transformations Gamma 11.9 9 Median <gradio.inputs.Radio object at 0x000001A54D4FA280> 1 1   3x3 1,1,1,1,1,1,1,1,1   3x3 0,-1,0,-1,4,-1,0,-1,0\n",
      "Transformations Gamma 14.6 9 Median <gradio.inputs.Radio object at 0x000001A54D4FA280> 1 1   3x3 1,1,1,1,1,1,1,1,1   3x3 0,-1,0,-1,4,-1,0,-1,0\n",
      "Transformations Gamma 16.8 9 Median <gradio.inputs.Radio object at 0x000001A54D4FA280> 1 1   3x3 1,1,1,1,1,1,1,1,1   3x3 0,-1,0,-1,4,-1,0,-1,0\n",
      "Transformations Gamma 17.3 9 Median <gradio.inputs.Radio object at 0x000001A54D4FA280> 1 1   3x3 1,1,1,1,1,1,1,1,1   3x3 0,-1,0,-1,4,-1,0,-1,0\n",
      "Transformations Gamma 17.3 9 Median <gradio.inputs.Radio object at 0x000001A54D4FA280> 1 1   3x3 1,1,1,1,1,1,1,1,1   3x3 0,-1,0,-1,4,-1,0,-1,0\n",
      "Transformations Gamma 17.3 9 Median <gradio.inputs.Radio object at 0x000001A54D4FA280> 1 1   3x3 1,1,1,1,1,1,1,1,1   3x3 0,-1,0,-1,4,-1,0,-1,0\n",
      "Transformations Gamma 17.5 9 Median <gradio.inputs.Radio object at 0x000001A54D4FA280> 1 1   3x3 1,1,1,1,1,1,1,1,1   3x3 0,-1,0,-1,4,-1,0,-1,0\n",
      "Transformations Gamma 18.2 9 Median <gradio.inputs.Radio object at 0x000001A54D4FA280> 1 1   3x3 1,1,1,1,1,1,1,1,1   3x3 0,-1,0,-1,4,-1,0,-1,0\n",
      "Transformations Gamma 18.5 9 Median <gradio.inputs.Radio object at 0x000001A54D4FA280> 1 1   3x3 1,1,1,1,1,1,1,1,1   3x3 0,-1,0,-1,4,-1,0,-1,0\n",
      "Transformations Gamma 18.5 9 Median <gradio.inputs.Radio object at 0x000001A54D4FA280> 1 1   3x3 1,1,1,1,1,1,1,1,1   3x3 0,-1,0,-1,4,-1,0,-1,0\n",
      "Transformations Gamma 19.4 9 Median <gradio.inputs.Radio object at 0x000001A54D4FA280> 1 1   3x3 1,1,1,1,1,1,1,1,1   3x3 0,-1,0,-1,4,-1,0,-1,0\n",
      "Transformations Gamma 29.2 9 Median <gradio.inputs.Radio object at 0x000001A54D4FA280> 1 1   3x3 1,1,1,1,1,1,1,1,1   3x3 0,-1,0,-1,4,-1,0,-1,0\n",
      "Transformations Gamma 31.9 9 Median <gradio.inputs.Radio object at 0x000001A54D4FA280> 1 1   3x3 1,1,1,1,1,1,1,1,1   3x3 0,-1,0,-1,4,-1,0,-1,0\n",
      "Transformations Gamma 32.1 9 Median <gradio.inputs.Radio object at 0x000001A54D4FA280> 1 1   3x3 1,1,1,1,1,1,1,1,1   3x3 0,-1,0,-1,4,-1,0,-1,0\n",
      "Transformations Gamma 32.1 9 Median <gradio.inputs.Radio object at 0x000001A54D4FA280> 1 1   3x3 1,1,1,1,1,1,1,1,1   3x3 0,-1,0,-1,4,-1,0,-1,0\n",
      "Transformations Gamma 32.1 9 Median <gradio.inputs.Radio object at 0x000001A54D4FA280> 1 1   3x3 1,1,1,1,1,1,1,1,1   3x3 0,-1,0,-1,4,-1,0,-1,0\n",
      "Transformations Gamma 32.4 9 Median <gradio.inputs.Radio object at 0x000001A54D4FA280> 1 1   3x3 1,1,1,1,1,1,1,1,1   3x3 0,-1,0,-1,4,-1,0,-1,0\n",
      "Transformations Gamma 32.6 9 Median <gradio.inputs.Radio object at 0x000001A54D4FA280> 1 1   3x3 1,1,1,1,1,1,1,1,1   3x3 0,-1,0,-1,4,-1,0,-1,0\n",
      "Transformations Gamma 32.6 9 Median <gradio.inputs.Radio object at 0x000001A54D4FA280> 1 1   3x3 1,1,1,1,1,1,1,1,1   3x3 0,-1,0,-1,4,-1,0,-1,0\n",
      "Transformations Gamma 32.9 9 Median <gradio.inputs.Radio object at 0x000001A54D4FA280> 1 1   3x3 1,1,1,1,1,1,1,1,1   3x3 0,-1,0,-1,4,-1,0,-1,0\n",
      "Transformations Gamma 32.9 9 Median <gradio.inputs.Radio object at 0x000001A54D4FA280> 1 1   3x3 1,1,1,1,1,1,1,1,1   3x3 0,-1,0,-1,4,-1,0,-1,0\n",
      "Transformations Gamma 32.1 9 Median <gradio.inputs.Radio object at 0x000001A54D4FA280> 1 1   3x3 1,1,1,1,1,1,1,1,1   3x3 0,-1,0,-1,4,-1,0,-1,0\n",
      "Transformations Gamma 26.8 9 Median <gradio.inputs.Radio object at 0x000001A54D4FA280> 1 1   3x3 1,1,1,1,1,1,1,1,1   3x3 0,-1,0,-1,4,-1,0,-1,0\n",
      "Transformations Gamma 21.4 9 Median <gradio.inputs.Radio object at 0x000001A54D4FA280> 1 1   3x3 1,1,1,1,1,1,1,1,1   3x3 0,-1,0,-1,4,-1,0,-1,0\n",
      "Transformations Gamma 18.7 9 Median <gradio.inputs.Radio object at 0x000001A54D4FA280> 1 1   3x3 1,1,1,1,1,1,1,1,1   3x3 0,-1,0,-1,4,-1,0,-1,0\n",
      "Transformations Gamma 17.5 9 Median <gradio.inputs.Radio object at 0x000001A54D4FA280> 1 1   3x3 1,1,1,1,1,1,1,1,1   3x3 0,-1,0,-1,4,-1,0,-1,0\n",
      "Transformations Gamma 15.5 9 Median <gradio.inputs.Radio object at 0x000001A54D4FA280> 1 1   3x3 1,1,1,1,1,1,1,1,1   3x3 0,-1,0,-1,4,-1,0,-1,0\n",
      "Transformations Gamma 13.6 9 Median <gradio.inputs.Radio object at 0x000001A54D4FA280> 1 1   3x3 1,1,1,1,1,1,1,1,1   3x3 0,-1,0,-1,4,-1,0,-1,0\n",
      "Transformations Gamma 11.2 9 Median <gradio.inputs.Radio object at 0x000001A54D4FA280> 1 1   3x3 1,1,1,1,1,1,1,1,1   3x3 0,-1,0,-1,4,-1,0,-1,0\n",
      "Transformations Gamma 9.4 9 Median <gradio.inputs.Radio object at 0x000001A54D4FA280> 1 1   3x3 1,1,1,1,1,1,1,1,1   3x3 0,-1,0,-1,4,-1,0,-1,0\n",
      "Transformations Gamma 8.5 9 Median <gradio.inputs.Radio object at 0x000001A54D4FA280> 1 1   3x3 1,1,1,1,1,1,1,1,1   3x3 0,-1,0,-1,4,-1,0,-1,0\n",
      "Transformations Gamma 8 9 Median <gradio.inputs.Radio object at 0x000001A54D4FA280> 1 1   3x3 1,1,1,1,1,1,1,1,1   3x3 0,-1,0,-1,4,-1,0,-1,0\n",
      "Transformations Gamma 7 9 Median <gradio.inputs.Radio object at 0x000001A54D4FA280> 1 1   3x3 1,1,1,1,1,1,1,1,1   3x3 0,-1,0,-1,4,-1,0,-1,0\n",
      "Transformations Gamma 6.3 9 Median <gradio.inputs.Radio object at 0x000001A54D4FA280> 1 1   3x3 1,1,1,1,1,1,1,1,1   3x3 0,-1,0,-1,4,-1,0,-1,0\n",
      "Transformations Gamma 4.8 9 Median <gradio.inputs.Radio object at 0x000001A54D4FA280> 1 1   3x3 1,1,1,1,1,1,1,1,1   3x3 0,-1,0,-1,4,-1,0,-1,0\n",
      "Transformations Gamma 3.4 9 Median <gradio.inputs.Radio object at 0x000001A54D4FA280> 1 1   3x3 1,1,1,1,1,1,1,1,1   3x3 0,-1,0,-1,4,-1,0,-1,0\n",
      "Transformations Gamma 3.4 9 Median <gradio.inputs.Radio object at 0x000001A54D4FA280> 1 1   3x3 1,1,1,1,1,1,1,1,1   3x3 0,-1,0,-1,4,-1,0,-1,0\n",
      "Transformations Gamma 2.9 9 Median <gradio.inputs.Radio object at 0x000001A54D4FA280> 1 1   3x3 1,1,1,1,1,1,1,1,1   3x3 0,-1,0,-1,4,-1,0,-1,0\n",
      "Transformations Gamma 2.6 9 Median <gradio.inputs.Radio object at 0x000001A54D4FA280> 1 1   3x3 1,1,1,1,1,1,1,1,1   3x3 0,-1,0,-1,4,-1,0,-1,0\n",
      "Transformations Gamma 2.6 9 Median <gradio.inputs.Radio object at 0x000001A54D4FA280> 1 1   3x3 1,1,1,1,1,1,1,1,1   3x3 0,-1,0,-1,4,-1,0,-1,0\n",
      "Transformations Gamma 2.6 9 Median <gradio.inputs.Radio object at 0x000001A54D4FA280> 1 1   3x3 1,1,1,1,1,1,1,1,1   3x3 0,-1,0,-1,4,-1,0,-1,0\n",
      "Transformations Gamma 2.4 9 Median <gradio.inputs.Radio object at 0x000001A54D4FA280> 1 1   3x3 1,1,1,1,1,1,1,1,1   3x3 0,-1,0,-1,4,-1,0,-1,0\n",
      "Transformations Gamma 2.4 9 Median <gradio.inputs.Radio object at 0x000001A54D4FA280> 1 1   3x3 1,1,1,1,1,1,1,1,1   3x3 0,-1,0,-1,4,-1,0,-1,0\n",
      "Transformations Gamma 1.9 9 Median <gradio.inputs.Radio object at 0x000001A54D4FA280> 1 1   3x3 1,1,1,1,1,1,1,1,1   3x3 0,-1,0,-1,4,-1,0,-1,0\n",
      "Transformations Gamma 1.9 9 Median <gradio.inputs.Radio object at 0x000001A54D4FA280> 1 1   3x3 1,1,1,1,1,1,1,1,1   3x3 0,-1,0,-1,4,-1,0,-1,0\n",
      "Transformations Gamma 1.4 9 Median <gradio.inputs.Radio object at 0x000001A54D4FA280> 1 1   3x3 1,1,1,1,1,1,1,1,1   3x3 0,-1,0,-1,4,-1,0,-1,0\n",
      "Transformations Gamma 1.2 9 Median <gradio.inputs.Radio object at 0x000001A54D4FA280> 1 1   3x3 1,1,1,1,1,1,1,1,1   3x3 0,-1,0,-1,4,-1,0,-1,0\n",
      "Transformations Gamma 1.2 9 Median <gradio.inputs.Radio object at 0x000001A54D4FA280> 1 1   3x3 1,1,1,1,1,1,1,1,1   3x3 0,-1,0,-1,4,-1,0,-1,0\n"
     ]
    },
    {
     "name": "stdout",
     "output_type": "stream",
     "text": [
      "Transformations Gamma 1.2 9 Median <gradio.inputs.Radio object at 0x000001A54D4FA280> 1 1   3x3 1,1,1,1,1,1,1,1,1   3x3 0,-1,0,-1,4,-1,0,-1,0\n",
      "Transformations Gamma 1.2 9 Median <gradio.inputs.Radio object at 0x000001A54D4FA280> 1 1   3x3 1,1,1,1,1,1,1,1,1   3x3 0,-1,0,-1,4,-1,0,-1,0\n",
      "Transformations Gamma 1.2 9 Median <gradio.inputs.Radio object at 0x000001A54D4FA280> 1 1   3x3 1,1,1,1,1,1,1,1,1   3x3 0,-1,0,-1,4,-1,0,-1,0\n",
      "Transformations Gamma 1.9 9 Median <gradio.inputs.Radio object at 0x000001A54D4FA280> 1 1   3x3 1,1,1,1,1,1,1,1,1   3x3 0,-1,0,-1,4,-1,0,-1,0\n",
      "Transformations Gamma 2.6 9 Median <gradio.inputs.Radio object at 0x000001A54D4FA280> 1 1   3x3 1,1,1,1,1,1,1,1,1   3x3 0,-1,0,-1,4,-1,0,-1,0\n",
      "Transformations Gamma 3.6 9 Median <gradio.inputs.Radio object at 0x000001A54D4FA280> 1 1   3x3 1,1,1,1,1,1,1,1,1   3x3 0,-1,0,-1,4,-1,0,-1,0\n",
      "Transformations Gamma 5.1 9 Median <gradio.inputs.Radio object at 0x000001A54D4FA280> 1 1   3x3 1,1,1,1,1,1,1,1,1   3x3 0,-1,0,-1,4,-1,0,-1,0\n",
      "Transformations Gamma 6.3 9 Median <gradio.inputs.Radio object at 0x000001A54D4FA280> 1 1   3x3 1,1,1,1,1,1,1,1,1   3x3 0,-1,0,-1,4,-1,0,-1,0\n",
      "Transformations Gamma 6.5 9 Median <gradio.inputs.Radio object at 0x000001A54D4FA280> 1 1   3x3 1,1,1,1,1,1,1,1,1   3x3 0,-1,0,-1,4,-1,0,-1,0\n",
      "Transformations Gamma 6.8 9 Median <gradio.inputs.Radio object at 0x000001A54D4FA280> 1 1   3x3 1,1,1,1,1,1,1,1,1   3x3 0,-1,0,-1,4,-1,0,-1,0\n",
      "Transformations Gamma 6.8 9 Median <gradio.inputs.Radio object at 0x000001A54D4FA280> 1 1   3x3 1,1,1,1,1,1,1,1,1   3x3 0,-1,0,-1,4,-1,0,-1,0\n",
      "Transformations Gamma 7 9 Median <gradio.inputs.Radio object at 0x000001A54D4FA280> 1 1   3x3 1,1,1,1,1,1,1,1,1   3x3 0,-1,0,-1,4,-1,0,-1,0\n",
      "Transformations Gamma 7.5 9 Median <gradio.inputs.Radio object at 0x000001A54D4FA280> 1 1   3x3 1,1,1,1,1,1,1,1,1   3x3 0,-1,0,-1,4,-1,0,-1,0\n",
      "Transformations Gamma 7.5 9 Median <gradio.inputs.Radio object at 0x000001A54D4FA280> 1 1   3x3 1,1,1,1,1,1,1,1,1   3x3 0,-1,0,-1,4,-1,0,-1,0\n",
      "Transformations Gamma 8 9 Median <gradio.inputs.Radio object at 0x000001A54D4FA280> 1 1   3x3 1,1,1,1,1,1,1,1,1   3x3 0,-1,0,-1,4,-1,0,-1,0\n",
      "Transformations Gamma 8 9 Median <gradio.inputs.Radio object at 0x000001A54D4FA280> 1 1   3x3 1,1,1,1,1,1,1,1,1   3x3 0,-1,0,-1,4,-1,0,-1,0\n",
      "Transformations Gamma 8 9 Median <gradio.inputs.Radio object at 0x000001A54D4FA280> 1 1   3x3 1,1,1,1,1,1,1,1,1   3x3 0,-1,0,-1,4,-1,0,-1,0\n",
      "Transformations Gamma 8 9 Median <gradio.inputs.Radio object at 0x000001A54D4FA280> 1 1   3x3 1,1,1,1,1,1,1,1,1   3x3 0,-1,0,-1,4,-1,0,-1,0\n",
      "Transformations Gamma 8 9 Median <gradio.inputs.Radio object at 0x000001A54D4FA280> 1 1   3x3 1,1,1,1,1,1,1,1,1   3x3 0,-1,0,-1,4,-1,0,-1,0\n",
      "Transformations Gamma 7 9 Median <gradio.inputs.Radio object at 0x000001A54D4FA280> 1 1   3x3 1,1,1,1,1,1,1,1,1   3x3 0,-1,0,-1,4,-1,0,-1,0\n",
      "Transformations Gamma 6.8 9 Median <gradio.inputs.Radio object at 0x000001A54D4FA280> 1 1   3x3 1,1,1,1,1,1,1,1,1   3x3 0,-1,0,-1,4,-1,0,-1,0\n",
      "Transformations Gamma 6 9 Median <gradio.inputs.Radio object at 0x000001A54D4FA280> 1 1   3x3 1,1,1,1,1,1,1,1,1   3x3 0,-1,0,-1,4,-1,0,-1,0\n",
      "Transformations Gamma 4.8 9 Median <gradio.inputs.Radio object at 0x000001A54D4FA280> 1 1   3x3 1,1,1,1,1,1,1,1,1   3x3 0,-1,0,-1,4,-1,0,-1,0\n",
      "Transformations Gamma 4.6 9 Median <gradio.inputs.Radio object at 0x000001A54D4FA280> 1 1   3x3 1,1,1,1,1,1,1,1,1   3x3 0,-1,0,-1,4,-1,0,-1,0\n",
      "Transformations Gamma 4.3 9 Median <gradio.inputs.Radio object at 0x000001A54D4FA280> 1 1   3x3 1,1,1,1,1,1,1,1,1   3x3 0,-1,0,-1,4,-1,0,-1,0\n",
      "Transformations Gamma 4.3 9 Median <gradio.inputs.Radio object at 0x000001A54D4FA280> 1 1   3x3 1,1,1,1,1,1,1,1,1   3x3 0,-1,0,-1,4,-1,0,-1,0\n",
      "Transformations Gamma 4.3 9 Median <gradio.inputs.Radio object at 0x000001A54D4FA280> 1 1   3x3 1,1,1,1,1,1,1,1,1   3x3 0,-1,0,-1,4,-1,0,-1,0\n",
      "Transformations Gamma 4.3 9 Median <gradio.inputs.Radio object at 0x000001A54D4FA280> 1 1   3x3 1,1,1,1,1,1,1,1,1   3x3 0,-1,0,-1,4,-1,0,-1,0\n",
      "Transformations Gamma 4.3 9 Median <gradio.inputs.Radio object at 0x000001A54D4FA280> 1 1   3x3 1,1,1,1,1,1,1,1,1   3x3 0,-1,0,-1,4,-1,0,-1,0\n",
      "Transformations Gamma 4.3 9 Median <gradio.inputs.Radio object at 0x000001A54D4FA280> 1 1   3x3 1,1,1,1,1,1,1,1,1   3x3 0,-1,0,-1,4,-1,0,-1,0\n",
      "Transformations Gamma 4.3 9 Median <gradio.inputs.Radio object at 0x000001A54D4FA280> 1 1   3x3 1,1,1,1,1,1,1,1,1   3x3 0,-1,0,-1,4,-1,0,-1,0\n",
      "Transformations Gamma 4.3 9 Median <gradio.inputs.Radio object at 0x000001A54D4FA280> 1 1   3x3 1,1,1,1,1,1,1,1,1   3x3 0,-1,0,-1,4,-1,0,-1,0\n",
      "Transformations Gamma 4.3 9 Median <gradio.inputs.Radio object at 0x000001A54D4FA280> 1 1   3x3 1,1,1,1,1,1,1,1,1   3x3 0,-1,0,-1,4,-1,0,-1,0\n",
      "Transformations Gamma 4.3 9 Median <gradio.inputs.Radio object at 0x000001A54D4FA280> 1 1   3x3 1,1,1,1,1,1,1,1,1   3x3 0,-1,0,-1,4,-1,0,-1,0\n",
      "Transformations Gamma 4.3 9 Median <gradio.inputs.Radio object at 0x000001A54D4FA280> 1 1   3x3 1,1,1,1,1,1,1,1,1   3x3 0,-1,0,-1,4,-1,0,-1,0\n",
      "Transformations Gamma 4.3 9 Median <gradio.inputs.Radio object at 0x000001A54D4FA280> 1 1   3x3 1,1,1,1,1,1,1,1,1   3x3 0,-1,0,-1,4,-1,0,-1,0\n",
      "Transformations Gamma 4.3 9 Median <gradio.inputs.Radio object at 0x000001A54D4FA280> 1 1   3x3 1,1,1,1,1,1,1,1,1   3x3 0,-1,0,-1,4,-1,0,-1,0\n",
      "Transformations Gamma 4.3 9 Median <gradio.inputs.Radio object at 0x000001A54D4FA280> 1 1   3x3 1,1,1,1,1,1,1,1,1   3x3 0,-1,0,-1,4,-1,0,-1,0\n",
      "Transformations Gamma 4.3 9 Median <gradio.inputs.Radio object at 0x000001A54D4FA280> 1 1   3x3 1,1,1,1,1,1,1,1,1   3x3 0,-1,0,-1,4,-1,0,-1,0\n",
      "Transformations Gamma 4.3 9 Median <gradio.inputs.Radio object at 0x000001A54D4FA280> 1 1   3x3 1,1,1,1,1,1,1,1,1   3x3 0,-1,0,-1,4,-1,0,-1,0\n",
      "Transformations Gamma 4.3 9 Median <gradio.inputs.Radio object at 0x000001A54D4FA280> 1 1   3x3 1,1,1,1,1,1,1,1,1   3x3 0,-1,0,-1,4,-1,0,-1,0\n",
      "Transformations Gamma 4.3 9 Median <gradio.inputs.Radio object at 0x000001A54D4FA280> 1 1   3x3 1,1,1,1,1,1,1,1,1   3x3 0,-1,0,-1,4,-1,0,-1,0\n",
      "Transformations Gamma 4.3 9 Median <gradio.inputs.Radio object at 0x000001A54D4FA280> 1 1   3x3 1,1,1,1,1,1,1,1,1   3x3 0,-1,0,-1,4,-1,0,-1,0\n",
      "Transformations Gamma 4.3 9 Median <gradio.inputs.Radio object at 0x000001A54D4FA280> 1 1   3x3 1,1,1,1,1,1,1,1,1   3x3 0,-1,0,-1,4,-1,0,-1,0\n",
      "Transformations Gamma 4.3 9 Median <gradio.inputs.Radio object at 0x000001A54D4FA280> 1 1   3x3 1,1,1,1,1,1,1,1,1   3x3 0,-1,0,-1,4,-1,0,-1,0\n",
      "Transformations Gamma 4.3 9 Median <gradio.inputs.Radio object at 0x000001A54D4FA280> 1 1   3x3 1,1,1,1,1,1,1,1,1   3x3 0,-1,0,-1,4,-1,0,-1,0\n",
      "Transformations Gamma 4.3 9 Median <gradio.inputs.Radio object at 0x000001A54D4FA280> 1 1   3x3 1,1,1,1,1,1,1,1,1   3x3 0,-1,0,-1,4,-1,0,-1,0\n",
      "Transformations Gamma 4.3 10 Median <gradio.inputs.Radio object at 0x000001A54D4FA280> 1 1   3x3 1,1,1,1,1,1,1,1,1   3x3 0,-1,0,-1,4,-1,0,-1,0\n",
      "Transformations Gamma 4.3 13 Median <gradio.inputs.Radio object at 0x000001A54D4FA280> 1 1   3x3 1,1,1,1,1,1,1,1,1   3x3 0,-1,0,-1,4,-1,0,-1,0\n",
      "Transformations Gamma 4.3 16 Median <gradio.inputs.Radio object at 0x000001A54D4FA280> 1 1   3x3 1,1,1,1,1,1,1,1,1   3x3 0,-1,0,-1,4,-1,0,-1,0\n",
      "Transformations Gamma 4.3 19 Median <gradio.inputs.Radio object at 0x000001A54D4FA280> 1 1   3x3 1,1,1,1,1,1,1,1,1   3x3 0,-1,0,-1,4,-1,0,-1,0\n",
      "Transformations Gamma 4.3 20 Median <gradio.inputs.Radio object at 0x000001A54D4FA280> 1 1   3x3 1,1,1,1,1,1,1,1,1   3x3 0,-1,0,-1,4,-1,0,-1,0\n",
      "Transformations Gamma 4.3 22 Median <gradio.inputs.Radio object at 0x000001A54D4FA280> 1 1   3x3 1,1,1,1,1,1,1,1,1   3x3 0,-1,0,-1,4,-1,0,-1,0\n",
      "Transformations Gamma 4.3 23 Median <gradio.inputs.Radio object at 0x000001A54D4FA280> 1 1   3x3 1,1,1,1,1,1,1,1,1   3x3 0,-1,0,-1,4,-1,0,-1,0\n",
      "Transformations Gamma 4.3 25 Median <gradio.inputs.Radio object at 0x000001A54D4FA280> 1 1   3x3 1,1,1,1,1,1,1,1,1   3x3 0,-1,0,-1,4,-1,0,-1,0\n",
      "Transformations Gamma 4.3 27 Median <gradio.inputs.Radio object at 0x000001A54D4FA280> 1 1   3x3 1,1,1,1,1,1,1,1,1   3x3 0,-1,0,-1,4,-1,0,-1,0\n",
      "Transformations Gamma 4.3 28 Median <gradio.inputs.Radio object at 0x000001A54D4FA280> 1 1   3x3 1,1,1,1,1,1,1,1,1   3x3 0,-1,0,-1,4,-1,0,-1,0\n",
      "Transformations Gamma 4.3 29 Median <gradio.inputs.Radio object at 0x000001A54D4FA280> 1 1   3x3 1,1,1,1,1,1,1,1,1   3x3 0,-1,0,-1,4,-1,0,-1,0\n",
      "Transformations Gamma 4.3 30 Median <gradio.inputs.Radio object at 0x000001A54D4FA280> 1 1   3x3 1,1,1,1,1,1,1,1,1   3x3 0,-1,0,-1,4,-1,0,-1,0\n",
      "Transformations Gamma 4.3 31 Median <gradio.inputs.Radio object at 0x000001A54D4FA280> 1 1   3x3 1,1,1,1,1,1,1,1,1   3x3 0,-1,0,-1,4,-1,0,-1,0\n",
      "Transformations Gamma 4.3 31 Median <gradio.inputs.Radio object at 0x000001A54D4FA280> 1 1   3x3 1,1,1,1,1,1,1,1,1   3x3 0,-1,0,-1,4,-1,0,-1,0\n"
     ]
    },
    {
     "name": "stdout",
     "output_type": "stream",
     "text": [
      "Transformations Gamma 4.3 31 Median <gradio.inputs.Radio object at 0x000001A54D4FA280> 1 1   3x3 1,1,1,1,1,1,1,1,1   3x3 0,-1,0,-1,4,-1,0,-1,0\n",
      "Transformations Gamma 4.3 30 Median <gradio.inputs.Radio object at 0x000001A54D4FA280> 1 1   3x3 1,1,1,1,1,1,1,1,1   3x3 0,-1,0,-1,4,-1,0,-1,0\n",
      "Transformations Gamma 4.3 24 Median <gradio.inputs.Radio object at 0x000001A54D4FA280> 1 1   3x3 1,1,1,1,1,1,1,1,1   3x3 0,-1,0,-1,4,-1,0,-1,0\n",
      "Transformations Gamma 4.3 17 Median <gradio.inputs.Radio object at 0x000001A54D4FA280> 1 1   3x3 1,1,1,1,1,1,1,1,1   3x3 0,-1,0,-1,4,-1,0,-1,0\n",
      "Transformations Gamma 4.3 15 Median <gradio.inputs.Radio object at 0x000001A54D4FA280> 1 1   3x3 1,1,1,1,1,1,1,1,1   3x3 0,-1,0,-1,4,-1,0,-1,0\n",
      "Transformations Gamma 4.3 13 Median <gradio.inputs.Radio object at 0x000001A54D4FA280> 1 1   3x3 1,1,1,1,1,1,1,1,1   3x3 0,-1,0,-1,4,-1,0,-1,0\n",
      "Transformations Gamma 4.3 10 Median <gradio.inputs.Radio object at 0x000001A54D4FA280> 1 1   3x3 1,1,1,1,1,1,1,1,1   3x3 0,-1,0,-1,4,-1,0,-1,0\n",
      "Transformations Gamma 4.3 10 Median <gradio.inputs.Radio object at 0x000001A54D4FA280> 1 1   3x3 1,1,1,1,1,1,1,1,1   3x3 0,-1,0,-1,4,-1,0,-1,0\n",
      "Transformations Gamma 4.3 9 Median <gradio.inputs.Radio object at 0x000001A54D4FA280> 1 1   3x3 1,1,1,1,1,1,1,1,1   3x3 0,-1,0,-1,4,-1,0,-1,0\n",
      "Transformations Gamma 4.3 8 Median <gradio.inputs.Radio object at 0x000001A54D4FA280> 1 1   3x3 1,1,1,1,1,1,1,1,1   3x3 0,-1,0,-1,4,-1,0,-1,0\n",
      "Transformations Gamma 4.3 7 Median <gradio.inputs.Radio object at 0x000001A54D4FA280> 1 1   3x3 1,1,1,1,1,1,1,1,1   3x3 0,-1,0,-1,4,-1,0,-1,0\n",
      "Transformations Gamma 4.3 6 Median <gradio.inputs.Radio object at 0x000001A54D4FA280> 1 1   3x3 1,1,1,1,1,1,1,1,1   3x3 0,-1,0,-1,4,-1,0,-1,0\n",
      "Transformations Gamma 4.3 6 Median <gradio.inputs.Radio object at 0x000001A54D4FA280> 1 1   3x3 1,1,1,1,1,1,1,1,1   3x3 0,-1,0,-1,4,-1,0,-1,0\n",
      "Transformations Gamma 4.3 6 Median <gradio.inputs.Radio object at 0x000001A54D4FA280> 1 1   3x3 1,1,1,1,1,1,1,1,1   3x3 0,-1,0,-1,4,-1,0,-1,0\n",
      "Transformations Gamma 4.3 5 Median <gradio.inputs.Radio object at 0x000001A54D4FA280> 1 1   3x3 1,1,1,1,1,1,1,1,1   3x3 0,-1,0,-1,4,-1,0,-1,0\n",
      "Transformations Gamma 4.3 4 Median <gradio.inputs.Radio object at 0x000001A54D4FA280> 1 1   3x3 1,1,1,1,1,1,1,1,1   3x3 0,-1,0,-1,4,-1,0,-1,0\n",
      "Transformations Gamma 4.3 3 Median <gradio.inputs.Radio object at 0x000001A54D4FA280> 1 1   3x3 1,1,1,1,1,1,1,1,1   3x3 0,-1,0,-1,4,-1,0,-1,0\n",
      "Transformations Gamma 4.3 3 Median <gradio.inputs.Radio object at 0x000001A54D4FA280> 1 1   3x3 1,1,1,1,1,1,1,1,1   3x3 0,-1,0,-1,4,-1,0,-1,0\n",
      "Transformations Gamma 4.3 3 Median <gradio.inputs.Radio object at 0x000001A54D4FA280> 1 1   3x3 1,1,1,1,1,1,1,1,1   3x3 0,-1,0,-1,4,-1,0,-1,0\n",
      "Transformations Gamma 4.3 3 Median <gradio.inputs.Radio object at 0x000001A54D4FA280> 1 1   3x3 1,1,1,1,1,1,1,1,1   3x3 0,-1,0,-1,4,-1,0,-1,0\n",
      "Transformations Gamma 4.3 2 Median <gradio.inputs.Radio object at 0x000001A54D4FA280> 1 1   3x3 1,1,1,1,1,1,1,1,1   3x3 0,-1,0,-1,4,-1,0,-1,0\n",
      "Transformations Gamma 4.3 2 Median <gradio.inputs.Radio object at 0x000001A54D4FA280> 1 1   3x3 1,1,1,1,1,1,1,1,1   3x3 0,-1,0,-1,4,-1,0,-1,0\n",
      "Transformations Gamma 4.3 2 Median <gradio.inputs.Radio object at 0x000001A54D4FA280> 1 1   3x3 1,1,1,1,1,1,1,1,1   3x3 0,-1,0,-1,4,-1,0,-1,0\n",
      "Transformations Gamma 4.3 1 Median <gradio.inputs.Radio object at 0x000001A54D4FA280> 1 1   3x3 1,1,1,1,1,1,1,1,1   3x3 0,-1,0,-1,4,-1,0,-1,0\n",
      "Transformations Gamma 4.3 1 Median <gradio.inputs.Radio object at 0x000001A54D4FA280> 1 1   3x3 1,1,1,1,1,1,1,1,1   3x3 0,-1,0,-1,4,-1,0,-1,0\n",
      "Transformations Gamma 4.3 1 Median <gradio.inputs.Radio object at 0x000001A54D4FA280> 1 1   3x3 1,1,1,1,1,1,1,1,1   3x3 0,-1,0,-1,4,-1,0,-1,0\n",
      "Transformations Gamma 4.3 1 Median <gradio.inputs.Radio object at 0x000001A54D4FA280> 1 1   3x3 1,1,1,1,1,1,1,1,1   3x3 0,-1,0,-1,4,-1,0,-1,0\n",
      "Transformations Gamma 4.3 0 Median <gradio.inputs.Radio object at 0x000001A54D4FA280> 1 1   3x3 1,1,1,1,1,1,1,1,1   3x3 0,-1,0,-1,4,-1,0,-1,0\n",
      "Transformations Gamma 4.3 0 Median <gradio.inputs.Radio object at 0x000001A54D4FA280> 1 1   3x3 1,1,1,1,1,1,1,1,1   3x3 0,-1,0,-1,4,-1,0,-1,0\n",
      "Transformations Gamma 4.3 0 Median <gradio.inputs.Radio object at 0x000001A54D4FA280> 1 1   3x3 1,1,1,1,1,1,1,1,1   3x3 0,-1,0,-1,4,-1,0,-1,0\n",
      "Transformations Gamma 4.3 0 Median <gradio.inputs.Radio object at 0x000001A54D4FA280> 1 1   3x3 1,1,1,1,1,1,1,1,1   3x3 0,-1,0,-1,4,-1,0,-1,0\n",
      "Transformations Gamma 4.3 0 Median <gradio.inputs.Radio object at 0x000001A54D4FA280> 1 1   3x3 1,1,1,1,1,1,1,1,1   3x3 0,-1,0,-1,4,-1,0,-1,0\n",
      "Transformations Gamma 4.3 0 Median <gradio.inputs.Radio object at 0x000001A54D4FA280> 1 1   3x3 1,1,1,1,1,1,1,1,1   3x3 0,-1,0,-1,4,-1,0,-1,0\n",
      "Transformations Gamma 4.3 0 Median <gradio.inputs.Radio object at 0x000001A54D4FA280> 1 1   3x3 1,1,1,1,1,1,1,1,1   3x3 0,-1,0,-1,4,-1,0,-1,0\n",
      "Transformations Gamma 4.3 0 Median <gradio.inputs.Radio object at 0x000001A54D4FA280> 1 1   3x3 1,1,1,1,1,1,1,1,1   3x3 0,-1,0,-1,4,-1,0,-1,0\n",
      "Transformations Gamma 4.3 0 Median <gradio.inputs.Radio object at 0x000001A54D4FA280> 1 1   3x3 1,1,1,1,1,1,1,1,1   3x3 0,-1,0,-1,4,-1,0,-1,0\n",
      "Transformations Gamma 4.3 0 Median <gradio.inputs.Radio object at 0x000001A54D4FA280> 1 1   3x3 1,1,1,1,1,1,1,1,1   3x3 0,-1,0,-1,4,-1,0,-1,0\n",
      "Transformations Gamma 4.3 0 Median <gradio.inputs.Radio object at 0x000001A54D4FA280> 1 1   3x3 1,1,1,1,1,1,1,1,1   3x3 0,-1,0,-1,4,-1,0,-1,0\n",
      "Transformations Gamma 4.3 0 Median <gradio.inputs.Radio object at 0x000001A54D4FA280> 1 1   3x3 1,1,1,1,1,1,1,1,1   3x3 0,-1,0,-1,4,-1,0,-1,0\n",
      "Transformations Gamma 4.3 0 Median <gradio.inputs.Radio object at 0x000001A54D4FA280> 1 1   3x3 1,1,1,1,1,1,1,1,1   3x3 0,-1,0,-1,4,-1,0,-1,0\n",
      "Transformations Gamma 4.3 0 Median <gradio.inputs.Radio object at 0x000001A54D4FA280> 1 1   3x3 1,1,1,1,1,1,1,1,1   3x3 0,-1,0,-1,4,-1,0,-1,0\n",
      "Transformations Gamma 4.3 0 Median <gradio.inputs.Radio object at 0x000001A54D4FA280> 1 1   3x3 1,1,1,1,1,1,1,1,1   3x3 0,-1,0,-1,4,-1,0,-1,0\n",
      "Transformations Gamma 4.3 0 Median <gradio.inputs.Radio object at 0x000001A54D4FA280> 1 1   3x3 1,1,1,1,1,1,1,1,1   3x3 0,-1,0,-1,4,-1,0,-1,0\n",
      "Transformations Gamma 4.3 0 Median <gradio.inputs.Radio object at 0x000001A54D4FA280> 1 1   3x3 1,1,1,1,1,1,1,1,1   3x3 0,-1,0,-1,4,-1,0,-1,0\n",
      "Transformations Gamma 4.3 0 Median <gradio.inputs.Radio object at 0x000001A54D4FA280> 1 1   3x3 1,1,1,1,1,1,1,1,1   3x3 0,-1,0,-1,4,-1,0,-1,0\n",
      "Transformations Gamma 4.3 0 Median <gradio.inputs.Radio object at 0x000001A54D4FA280> 1 1   3x3 1,1,1,1,1,1,1,1,1   3x3 0,-1,0,-1,4,-1,0,-1,0\n",
      "Transformations Gamma 4.3 0 Median <gradio.inputs.Radio object at 0x000001A54D4FA280> 1 1   3x3 1,1,1,1,1,1,1,1,1   3x3 0,-1,0,-1,4,-1,0,-1,0\n",
      "Transformations Gamma 4.3 0 Median <gradio.inputs.Radio object at 0x000001A54D4FA280> 1 1   3x3 1,1,1,1,1,1,1,1,1   3x3 0,-1,0,-1,4,-1,0,-1,0\n",
      "Transformations Gamma 4.3 0 Median <gradio.inputs.Radio object at 0x000001A54D4FA280> 1 1   3x3 1,1,1,1,1,1,1,1,1   3x3 0,-1,0,-1,4,-1,0,-1,0\n",
      "Transformations Gamma 4.3 0 Median <gradio.inputs.Radio object at 0x000001A54D4FA280> 1 1   3x3 1,1,1,1,1,1,1,1,1   3x3 0,-1,0,-1,4,-1,0,-1,0\n",
      "Transformations Gamma 4.3 0 Median <gradio.inputs.Radio object at 0x000001A54D4FA280> 1 1   3x3 1,1,1,1,1,1,1,1,1   3x3 0,-1,0,-1,4,-1,0,-1,0\n",
      "Transformations Gamma 4.3 0 Median <gradio.inputs.Radio object at 0x000001A54D4FA280> 1 1   3x3 1,1,1,1,1,1,1,1,1   3x3 0,-1,0,-1,4,-1,0,-1,0\n",
      "Transformations Gamma 4.3 0 Median <gradio.inputs.Radio object at 0x000001A54D4FA280> 1 1   3x3 1,1,1,1,1,1,1,1,1   3x3 0,-1,0,-1,4,-1,0,-1,0\n",
      "Transformations Gamma 4.3 0 Median <gradio.inputs.Radio object at 0x000001A54D4FA280> 1 1   3x3 1,1,1,1,1,1,1,1,1   3x3 0,-1,0,-1,4,-1,0,-1,0\n",
      "Transformations Gamma 4.3 0 Median <gradio.inputs.Radio object at 0x000001A54D4FA280> 1 1   3x3 1,1,1,1,1,1,1,1,1   3x3 0,-1,0,-1,4,-1,0,-1,0\n",
      "Transformations Gamma 4.3 1 Median <gradio.inputs.Radio object at 0x000001A54D4FA280> 1 1   3x3 1,1,1,1,1,1,1,1,1   3x3 0,-1,0,-1,4,-1,0,-1,0\n",
      "Transformations Gamma 4.3 1 Median <gradio.inputs.Radio object at 0x000001A54D4FA280> 1 1   3x3 1,1,1,1,1,1,1,1,1   3x3 0,-1,0,-1,4,-1,0,-1,0\n",
      "Transformations Gamma 4.3 1 Median <gradio.inputs.Radio object at 0x000001A54D4FA280> 1 1   3x3 1,1,1,1,1,1,1,1,1   3x3 0,-1,0,-1,4,-1,0,-1,0\n"
     ]
    },
    {
     "name": "stdout",
     "output_type": "stream",
     "text": [
      "Transformations Gamma 4.3 1 Median <gradio.inputs.Radio object at 0x000001A54D4FA280> 1 1   3x3 1,1,1,1,1,1,1,1,1   3x3 0,-1,0,-1,4,-1,0,-1,0\n",
      "Transformations Gamma 4.3 2 Median <gradio.inputs.Radio object at 0x000001A54D4FA280> 1 1   3x3 1,1,1,1,1,1,1,1,1   3x3 0,-1,0,-1,4,-1,0,-1,0\n",
      "Transformations Gamma 4.3 2 Median <gradio.inputs.Radio object at 0x000001A54D4FA280> 1 1   3x3 1,1,1,1,1,1,1,1,1   3x3 0,-1,0,-1,4,-1,0,-1,0\n",
      "Transformations Gamma 4.3 2 Median <gradio.inputs.Radio object at 0x000001A54D4FA280> 1 1   3x3 1,1,1,1,1,1,1,1,1   3x3 0,-1,0,-1,4,-1,0,-1,0\n",
      "Transformations Gamma 4.3 2 Median <gradio.inputs.Radio object at 0x000001A54D4FA280> 1 1   3x3 1,1,1,1,1,1,1,1,1   3x3 0,-1,0,-1,4,-1,0,-1,0\n",
      "Transformations Gamma 4.3 2 Median <gradio.inputs.Radio object at 0x000001A54D4FA280> 1 1   3x3 1,1,1,1,1,1,1,1,1   3x3 0,-1,0,-1,4,-1,0,-1,0\n",
      "Transformations Gamma 4.3 2 Median <gradio.inputs.Radio object at 0x000001A54D4FA280> 1 1   3x3 1,1,1,1,1,1,1,1,1   3x3 0,-1,0,-1,4,-1,0,-1,0\n",
      "Transformations Gamma 4.3 2 Median <gradio.inputs.Radio object at 0x000001A54D4FA280> 1 1   3x3 1,1,1,1,1,1,1,1,1   3x3 0,-1,0,-1,4,-1,0,-1,0\n",
      "Transformations Gamma 4.3 2 Median <gradio.inputs.Radio object at 0x000001A54D4FA280> 1 1   3x3 1,1,1,1,1,1,1,1,1   3x3 0,-1,0,-1,4,-1,0,-1,0\n",
      "Transformations Gamma 4.3 2 Median <gradio.inputs.Radio object at 0x000001A54D4FA280> 1 1   3x3 1,1,1,1,1,1,1,1,1   3x3 0,-1,0,-1,4,-1,0,-1,0\n",
      "Transformations Gamma 4.3 2 Median <gradio.inputs.Radio object at 0x000001A54D4FA280> 1 1   3x3 1,1,1,1,1,1,1,1,1   3x3 0,-1,0,-1,4,-1,0,-1,0\n",
      "Transformations Gamma 4.3 2 Median <gradio.inputs.Radio object at 0x000001A54D4FA280> 1 1   3x3 1,1,1,1,1,1,1,1,1   3x3 0,-1,0,-1,4,-1,0,-1,0\n",
      "Transformations Gamma 4.3 2 Median <gradio.inputs.Radio object at 0x000001A54D4FA280> 1 1   3x3 1,1,1,1,1,1,1,1,1   3x3 0,-1,0,-1,4,-1,0,-1,0\n",
      "Transformations Gamma 4.3 2 Median <gradio.inputs.Radio object at 0x000001A54D4FA280> 1 1   3x3 1,1,1,1,1,1,1,1,1   3x3 0,-1,0,-1,4,-1,0,-1,0\n",
      "Transformations Gamma 4.3 2 Median <gradio.inputs.Radio object at 0x000001A54D4FA280> 1 1   3x3 1,1,1,1,1,1,1,1,1   3x3 0,-1,0,-1,4,-1,0,-1,0\n",
      "Transformations Gamma 4.3 2 Median <gradio.inputs.Radio object at 0x000001A54D4FA280> 1 1   3x3 1,1,1,1,1,1,1,1,1   3x3 0,-1,0,-1,4,-1,0,-1,0\n",
      "Transformations Gamma 4.3 2 Median <gradio.inputs.Radio object at 0x000001A54D4FA280> 1 1   3x3 1,1,1,1,1,1,1,1,1   3x3 0,-1,0,-1,4,-1,0,-1,0\n",
      "Transformations Gamma 4.3 2 Median <gradio.inputs.Radio object at 0x000001A54D4FA280> 1 1   3x3 1,1,1,1,1,1,1,1,1   3x3 0,-1,0,-1,4,-1,0,-1,0\n",
      "Transformations Gamma 4.3 2 Median <gradio.inputs.Radio object at 0x000001A54D4FA280> 1 1   3x3 1,1,1,1,1,1,1,1,1   3x3 0,-1,0,-1,4,-1,0,-1,0\n",
      "Transformations Gamma 4.3 2 Median <gradio.inputs.Radio object at 0x000001A54D4FA280> 1 1   3x3 1,1,1,1,1,1,1,1,1   3x3 0,-1,0,-1,4,-1,0,-1,0\n",
      "Transformations Gamma 4.3 2 Median <gradio.inputs.Radio object at 0x000001A54D4FA280> 1 1   3x3 1,1,1,1,1,1,1,1,1   3x3 0,-1,0,-1,4,-1,0,-1,0\n",
      "Transformations Gamma 4.3 2 Median <gradio.inputs.Radio object at 0x000001A54D4FA280> 1 1   3x3 1,1,1,1,1,1,1,1,1   3x3 0,-1,0,-1,4,-1,0,-1,0\n",
      "Transformations Gamma 4.3 2 Median <gradio.inputs.Radio object at 0x000001A54D4FA280> 1 1   3x3 1,1,1,1,1,1,1,1,1   3x3 0,-1,0,-1,4,-1,0,-1,0\n",
      "Transformations Gamma 4.3 2 Median <gradio.inputs.Radio object at 0x000001A54D4FA280> 1 1   3x3 1,1,1,1,1,1,1,1,1   3x3 0,-1,0,-1,4,-1,0,-1,0\n",
      "Transformations Gamma 4.3 2 Median <gradio.inputs.Radio object at 0x000001A54D4FA280> 1 1   3x3 1,1,1,1,1,1,1,1,1   3x3 0,-1,0,-1,4,-1,0,-1,0\n",
      "Transformations Gamma 4.3 2 Median <gradio.inputs.Radio object at 0x000001A54D4FA280> 1 1   3x3 1,1,1,1,1,1,1,1,1   3x3 0,-1,0,-1,4,-1,0,-1,0\n",
      "Transformations Gamma 4.3 2 Median <gradio.inputs.Radio object at 0x000001A54D4FA280> 1 1   3x3 1,1,1,1,1,1,1,1,1   3x3 0,-1,0,-1,4,-1,0,-1,0\n",
      "Transformations Gamma 4.3 2 Median <gradio.inputs.Radio object at 0x000001A54D4FA280> 1 1   3x3 1,1,1,1,1,1,1,1,1   3x3 0,-1,0,-1,4,-1,0,-1,0\n",
      "Transformations Gamma 4.3 2 Median <gradio.inputs.Radio object at 0x000001A54D4FA280> 1 1   3x3 1,1,1,1,1,1,1,1,1   3x3 0,-1,0,-1,4,-1,0,-1,0\n",
      "Transformations Gamma 4.3 2 Median <gradio.inputs.Radio object at 0x000001A54D4FA280> 1 1   3x3 1,1,1,1,1,1,1,1,1   3x3 0,-1,0,-1,4,-1,0,-1,0\n",
      "Transformations Gamma 4.3 2 Median <gradio.inputs.Radio object at 0x000001A54D4FA280> 1 1   3x3 1,1,1,1,1,1,1,1,1   3x3 0,-1,0,-1,4,-1,0,-1,0\n",
      "Transformations Gamma 4.3 2 Median <gradio.inputs.Radio object at 0x000001A54D4FA280> 1 1   3x3 1,1,1,1,1,1,1,1,1   3x3 0,-1,0,-1,4,-1,0,-1,0\n",
      "Transformations Gamma 4.3 2 Median <gradio.inputs.Radio object at 0x000001A54D4FA280> 1 1   3x3 1,1,1,1,1,1,1,1,1   3x3 0,-1,0,-1,4,-1,0,-1,0\n",
      "Transformations Gamma 4.3 2 Median <gradio.inputs.Radio object at 0x000001A54D4FA280> 1 1   3x3 1,1,1,1,1,1,1,1,1   3x3 0,-1,0,-1,4,-1,0,-1,0\n",
      "Transformations Gamma 4.3 2 Median <gradio.inputs.Radio object at 0x000001A54D4FA280> 1 1   3x3 1,1,1,1,1,1,1,1,1   3x3 0,-1,0,-1,4,-1,0,-1,0\n",
      "Transformations Gamma 4.3 2 Median <gradio.inputs.Radio object at 0x000001A54D4FA280> 1 1   3x3 1,1,1,1,1,1,1,1,1   3x3 0,-1,0,-1,4,-1,0,-1,0\n",
      "Transformations Gamma 4.3 2 Median <gradio.inputs.Radio object at 0x000001A54D4FA280> 1 1   3x3 1,1,1,1,1,1,1,1,1   3x3 0,-1,0,-1,4,-1,0,-1,0\n",
      "Transformations Gamma 4.3 2 Median <gradio.inputs.Radio object at 0x000001A54D4FA280> 1 1   3x3 1,1,1,1,1,1,1,1,1   3x3 0,-1,0,-1,4,-1,0,-1,0\n",
      "Transformations Gamma 4.3 2 Median <gradio.inputs.Radio object at 0x000001A54D4FA280> 1 1   3x3 1,1,1,1,1,1,1,1,1   3x3 0,-1,0,-1,4,-1,0,-1,0\n",
      "Transformations Gamma 4.3 2 Median <gradio.inputs.Radio object at 0x000001A54D4FA280> 1 1   3x3 1,1,1,1,1,1,1,1,1   3x3 0,-1,0,-1,4,-1,0,-1,0\n",
      "Transformations Gamma 4.3 2 Median <gradio.inputs.Radio object at 0x000001A54D4FA280> 1 1   3x3 1,1,1,1,1,1,1,1,1   3x3 0,-1,0,-1,4,-1,0,-1,0\n",
      "Transformations Gamma 4.3 2 Median <gradio.inputs.Radio object at 0x000001A54D4FA280> 1 1   3x3 1,1,1,1,1,1,1,1,1   3x3 0,-1,0,-1,4,-1,0,-1,0\n",
      "Transformations Gamma 4.3 2 Median <gradio.inputs.Radio object at 0x000001A54D4FA280> 1 1   3x3 1,1,1,1,1,1,1,1,1   3x3 0,-1,0,-1,4,-1,0,-1,0\n",
      "Transformations Gamma 4.3 2 Median <gradio.inputs.Radio object at 0x000001A54D4FA280> 1 1   3x3 1,1,1,1,1,1,1,1,1   3x3 0,-1,0,-1,4,-1,0,-1,0\n",
      "Transformations Gamma 4.3 2 Median <gradio.inputs.Radio object at 0x000001A54D4FA280> 1 1   3x3 1,1,1,1,1,1,1,1,1   3x3 0,-1,0,-1,4,-1,0,-1,0\n",
      "Transformations Gamma 4.3 2 Median <gradio.inputs.Radio object at 0x000001A54D4FA280> 1 1   3x3 1,1,1,1,1,1,1,1,1   3x3 0,-1,0,-1,4,-1,0,-1,0\n",
      "Transformations Gamma 4.3 2 Median <gradio.inputs.Radio object at 0x000001A54D4FA280> 1 1   3x3 1,1,1,1,1,1,1,1,1   3x3 0,-1,0,-1,4,-1,0,-1,0\n",
      "Transformations Gamma 4.3 2 Median <gradio.inputs.Radio object at 0x000001A54D4FA280> 1 1   3x3 1,1,1,1,1,1,1,1,1   3x3 0,-1,0,-1,4,-1,0,-1,0\n",
      "Transformations Gamma 4.3 2 Median <gradio.inputs.Radio object at 0x000001A54D4FA280> 1 1   3x3 1,1,1,1,1,1,1,1,1   3x3 0,-1,0,-1,4,-1,0,-1,0\n",
      "Transformations Gamma 4.3 2 Median <gradio.inputs.Radio object at 0x000001A54D4FA280> 1 1   3x3 1,1,1,1,1,1,1,1,1   3x3 0,-1,0,-1,4,-1,0,-1,0\n",
      "Transformations Gamma 4.3 2 Median <gradio.inputs.Radio object at 0x000001A54D4FA280> 1 1   3x3 1,1,1,1,1,1,1,1,1   3x3 0,-1,0,-1,4,-1,0,-1,0\n",
      "Transformations Gamma 4.3 2 Median <gradio.inputs.Radio object at 0x000001A54D4FA280> 1 1   3x3 1,1,1,1,1,1,1,1,1   3x3 0,-1,0,-1,4,-1,0,-1,0\n",
      "Transformations Gamma 4.3 2 Median <gradio.inputs.Radio object at 0x000001A54D4FA280> 1 1   3x3 1,1,1,1,1,1,1,1,1   3x3 0,-1,0,-1,4,-1,0,-1,0\n",
      "Transformations Gamma 4.3 2 Median <gradio.inputs.Radio object at 0x000001A54D4FA280> 1 1   3x3 1,1,1,1,1,1,1,1,1   3x3 0,-1,0,-1,4,-1,0,-1,0\n",
      "Transformations Gamma 4.3 2 Median <gradio.inputs.Radio object at 0x000001A54D4FA280> 1 1   3x3 1,1,1,1,1,1,1,1,1   3x3 0,-1,0,-1,4,-1,0,-1,0\n",
      "Transformations Gamma 4.3 2 Median <gradio.inputs.Radio object at 0x000001A54D4FA280> 1 1   3x3 1,1,1,1,1,1,1,1,1   3x3 0,-1,0,-1,4,-1,0,-1,0\n",
      "Transformations Gamma 4.3 2 Median <gradio.inputs.Radio object at 0x000001A54D4FA280> 1 1   3x3 1,1,1,1,1,1,1,1,1   3x3 0,-1,0,-1,4,-1,0,-1,0\n",
      "Transformations Gamma 4.3 2 Median <gradio.inputs.Radio object at 0x000001A54D4FA280> 1 1   3x3 1,1,1,1,1,1,1,1,1   3x3 0,-1,0,-1,4,-1,0,-1,0\n",
      "Transformations Gamma 4.3 2 Median <gradio.inputs.Radio object at 0x000001A54D4FA280> 1 1   3x3 1,1,1,1,1,1,1,1,1   3x3 0,-1,0,-1,4,-1,0,-1,0\n",
      "Transformations Gamma 4.3 2 Median <gradio.inputs.Radio object at 0x000001A54D4FA280> 1 1   3x3 1,1,1,1,1,1,1,1,1   3x3 0,-1,0,-1,4,-1,0,-1,0\n"
     ]
    },
    {
     "name": "stdout",
     "output_type": "stream",
     "text": [
      "Transformations Gamma 4.3 2 Median <gradio.inputs.Radio object at 0x000001A54D4FA280> 1 1   3x3 1,1,1,1,1,1,1,1,1   3x3 0,-1,0,-1,4,-1,0,-1,0\n",
      "Transformations Gamma 4.3 2 Median <gradio.inputs.Radio object at 0x000001A54D4FA280> 1 1   3x3 1,1,1,1,1,1,1,1,1   3x3 0,-1,0,-1,4,-1,0,-1,0\n",
      "Transformations Gamma 4.3 2 Median <gradio.inputs.Radio object at 0x000001A54D4FA280> 1 1   3x3 1,1,1,1,1,1,1,1,1   3x3 0,-1,0,-1,4,-1,0,-1,0\n",
      "Transformations Gamma 4.3 2 Median <gradio.inputs.Radio object at 0x000001A54D4FA280> 1 1   3x3 1,1,1,1,1,1,1,1,1   3x3 0,-1,0,-1,4,-1,0,-1,0\n",
      "Edge Detection - Sobels Gamma 0 0 Median <gradio.inputs.Radio object at 0x000001A54D4FA280> 1 1   3x3 1,1,1,1,1,1,1,1,1   3x3 0,-1,0,-1,4,-1,0,-1,0\n",
      "Edge Detection - Sobels Gamma 0 0 Median <gradio.inputs.Radio object at 0x000001A54D4FA280> 1 1   3x3 1,1,1,1,1,1,1,1,1   3x3 0,-1,0,-1,4,-1,0,-1,0\n",
      "Edge Detection - Sobels Gamma 0 0 Median <gradio.inputs.Radio object at 0x000001A54D4FA280> 1 1   3x3 1,1,1,1,1,1,1,1,1   3x3 0,-1,0,-1,4,-1,0,-1,0\n",
      "Edge Detection - Sobels Gamma 0 0 Median <gradio.inputs.Radio object at 0x000001A54D4FA280> 1 1   3x3 1,1,1,1,1,1,1,1,1   3x3 0,-1,0,-1,4,-1,0,-1,0\n",
      "Edge Detection - Sobels Gamma 0 0 Median <gradio.inputs.Radio object at 0x000001A54D4FA280> 1 1   3x3 1,1,1,1,1,1,1,1,1   3x3 0,-1,0,-1,4,-1,0,-1,0\n",
      "Edge Detection - Sobels Gamma 0 0 Median <gradio.inputs.Radio object at 0x000001A54D4FA280> 1 1   3x3 1,1,1,1,1,1,1,1,1   3x3 0,-1,0,-1,4,-1,0,-1,0\n",
      "Edge Detection - Sobels Gamma 0 0 Median <gradio.inputs.Radio object at 0x000001A54D4FA280> 1 1   3x3 1,1,1,1,1,1,1,1,1   3x3 0,-1,0,-1,4,-1,0,-1,0\n",
      "Edge Detection - Sobels Gamma 0 0 Median <gradio.inputs.Radio object at 0x000001A54D4FA280> 1 1   3x3 1,1,1,1,1,1,1,1,1   3x3 0,-1,0,-1,4,-1,0,-1,0\n",
      "Edge Detection - Sobels Gamma 0 0 Median <gradio.inputs.Radio object at 0x000001A54D4FA280> 1 1   3x3 1,1,1,1,1,1,1,1,1   3x3 0,-1,0,-1,4,-1,0,-1,0\n",
      "Sharpening Gamma 0 0 Median <gradio.inputs.Radio object at 0x000001A54D4FA280> 1 1   3x3 1,1,1,1,1,1,1,1,1   3x3 0,-1,0,-1,4,-1,0,-1,0\n",
      "Sharpening Gamma 0 0 Median <gradio.inputs.Radio object at 0x000001A54D4FA280> 1 1   3x3 1,1,1,1,1,1,1,1,1   3x3 0,-1,0,-1,4,-1,0,-1,0\n",
      "Sharpening Gamma 0 0 Median <gradio.inputs.Radio object at 0x000001A54D4FA280> 1 1   3x3 1,1,1,1,1,1,1,1,1   3x3 0,-1,0,-1,4,-1,0,-1,0\n",
      "Sharpening Gamma 0 0 Median <gradio.inputs.Radio object at 0x000001A54D4FA280> 1 1   3x3 1,1,1,1,1,1,1,1,1   3x3 0,-1,0,-1,4,-1,0,-1,0\n",
      "Sharpening Gamma 0 0 Median <gradio.inputs.Radio object at 0x000001A54D4FA280> 1 1   3x3 1,1,1,1,1,1,1,1,1   3x3 0,-1,0,-1,4,-1,0,-1,0\n",
      "Sharpening Gamma 0 0 Median <gradio.inputs.Radio object at 0x000001A54D4FA280> 1 1   3x3 1,1,1,1,1,1,1,1,1   3x3 0,-1,0,-1,4,-1,0,-1,0\n",
      "Sharpening Gamma 0 0 Median <gradio.inputs.Radio object at 0x000001A54D4FA280> 1 1   3x3 1,1,1,1,1,1,1,1,1   3x3 0,-1,0,-1,4,-1,0,-1,0\n",
      "Sharpening Gamma 0 0 Median <gradio.inputs.Radio object at 0x000001A54D4FA280> 1 1   3x3 1,1,1,1,1,1,1,1,1   3x3 0,-1,0,-1,4,-1,0,-1,0\n",
      "Sharpening Gamma 0 0 Median <gradio.inputs.Radio object at 0x000001A54D4FA280> 1 1   3x3 1,1,1,1,1,1,1,1,1   3x3 0,-1,0,-1,4,-1,0,-1,0\n",
      "Sharpening Gamma 0 0 Median <gradio.inputs.Radio object at 0x000001A54D4FA280> 1 1   3x3 1,1,1,1,1,1,1,1,1   3x3 0,-1,0,-1,4,-1,0,-1,0\n",
      "Sharpening Gamma 0 0 Median <gradio.inputs.Radio object at 0x000001A54D4FA280> 1 1   3x3 1,1,1,1,1,1,1,1,1   3x3 0,-1,0,-1,4,-1,0,-1,0\n",
      "Sharpening Gamma 0 0 Median <gradio.inputs.Radio object at 0x000001A54D4FA280> 1 1   3x3 1,1,1,1,1,1,1,1,1   3x3 0,-1,0,-1,4,-1,0,-1,0\n"
     ]
    }
   ],
   "source": [
    "import gradio as gr\n",
    "\n",
    "img = gr.inputs.Image()\n",
    "\n",
    "title = \"Computer Vision WorkBench\"\n",
    "# description = \"An experimental UI to demostrate Image Processing.\"\n",
    "\n",
    "selector = gr.inputs.Dropdown([\"Transformations\", \"Filtering\", \n",
    "                               \"Statistical Measures\", \"Bit Planes\", \n",
    "                               \"Reconstruct Bit Planes\",\n",
    "                               \"Smoothing\", \"Sharpening\", \n",
    "                               \"Edge Detection - Sobels\"], label=\"Select Operation\")\n",
    "\n",
    "transformation = gr.inputs.Radio(['Gamma', 'Histogram Equalization'], label=\"Transformations\")\n",
    "gamma = gr.inputs.Slider(minimum=0, maximum = 100, step=0.1, default = 2, label=\"Select Gamma\")\n",
    "c_slider = gr.inputs.Slider(minimum=0, maximum = 100, step=1, default = 5, label=\"Select C Value\")\n",
    "\n",
    "filtering = gr.inputs.Radio(['Median', 'Mode', \"Average\", \"Weighted Avg.\"], label=\"Filtering\")\n",
    "# statistic = gr.inputs.Radio(['Show Statistics'], label=\"Statistical Measures\")\n",
    "\n",
    "show_planes = gr.inputs.Slider(minimum=1, maximum = 8, step=1, default = 8, label=\"Bit Planes\")\n",
    "bit_planes = gr.inputs.Slider(minimum=1, maximum = 8, step=1, default = 3, label=\"Reconstruct using Bit Plane\")\n",
    "\n",
    "smoothing = gr.inputs.Radio([\" \"], label=\"Smoothing\")\n",
    "dataset = ['3x3', '5x5']\n",
    "smooth_size = gr.inputs.Dropdown(dataset, label=\"Select Filter size\")\n",
    "# smooth_size = gr.inputs.Slider(minimum=0, maximum = 10, step=1, default = 3, label=\"Filter Size\")\n",
    "filter_coeff_sm = gr.inputs.Textbox(lines=2,default= [1, 1, 1, 1, 1, 1 ,1 ,1, 1], numeric=False, type=\"str\", label=None)\n",
    "\n",
    "sharpening = gr.inputs.Radio([\" \"], label=\"Sharpening\")\n",
    "# sharp_size = gr.inputs.Slider(minimum=0, maximum = 10, step=1, default = 3, label=\"Filter Size\")\n",
    "sharp_size = gr.inputs.Dropdown(dataset, label=\"Select Filter size\")\n",
    "filter_coeff_sh = gr.inputs.Textbox(lines=2,default= [0, -1, 0, -1, 4, -1, 0, -1, 0], numeric=False, type=\"str\", label=None)\n",
    "\n",
    "image1 = gr.inputs.Image(shape=(299, 299), type=\"numpy\")\n",
    "image2 = gr.outputs.Image(type=\"numpy\", label=\"Output\")\n",
    "\n",
    "stat_out = gr.outputs.Textbox(type=\"auto\", label=\"Statistics\")\n",
    "\n",
    "gr.Interface(choice, inputs = [image1, selector, transformation, gamma, c_slider, filtering, \n",
    "                                  show_planes, bit_planes, smoothing, smooth_size, filter_coeff_sm,\n",
    "                                  sharpening, sharp_size, filter_coeff_sh],   \n",
    "             outputs = [image2, stat_out], \n",
    "             title=title, live=True).launch(share=True)"
   ]
  },
  {
   "cell_type": "code",
   "execution_count": null,
   "metadata": {},
   "outputs": [],
   "source": []
  }
 ],
 "metadata": {
  "kernelspec": {
   "display_name": "Python 3",
   "language": "python",
   "name": "python3"
  },
  "language_info": {
   "codemirror_mode": {
    "name": "ipython",
    "version": 3
   },
   "file_extension": ".py",
   "mimetype": "text/x-python",
   "name": "python",
   "nbconvert_exporter": "python",
   "pygments_lexer": "ipython3",
   "version": "3.8.3"
  }
 },
 "nbformat": 4,
 "nbformat_minor": 4
}
